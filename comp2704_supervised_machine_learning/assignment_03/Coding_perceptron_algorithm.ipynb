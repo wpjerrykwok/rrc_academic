{
 "cells": [
  {
   "cell_type": "markdown",
   "metadata": {},
   "source": [
    "# Chapter 5: Sentiment analysis with the perceptron algorithm\n",
    "\n",
    "### Importing the necessary packages"
   ]
  },
  {
   "cell_type": "code",
   "execution_count": 61,
   "metadata": {},
   "outputs": [],
   "source": [
    "# Importing packages\n",
    "from matplotlib import pyplot as plt\n",
    "import numpy as np\n",
    "import random\n",
    "import utils"
   ]
  },
  {
   "cell_type": "markdown",
   "metadata": {},
   "source": [
    "### Defining and plotting our dataset"
   ]
  },
  {
   "cell_type": "code",
   "execution_count": 62,
   "metadata": {},
   "outputs": [],
   "source": [
    "features = np.array([[1,0],[0,2],[1,1],[1,2],[1,3],[2,2],[2,3],[3,2]])\n",
    "labels = np.array([0,0,0,0,1,1,1,1])"
   ]
  },
  {
   "cell_type": "code",
   "execution_count": 63,
   "metadata": {},
   "outputs": [
    {
     "data": {
      "image/png": "[encoded data removed]",
      "text/plain": [
       "<Figure size 432x288 with 1 Axes>"
      ]
     },
     "metadata": {
      "needs_background": "light"
     },
     "output_type": "display_data"
    }
   ],
   "source": [
    "# Plotting the points\n",
    "utils.plot_points(features, labels)\n",
    "\n",
    "# Uncomment the following line to see a good line fit for this data.\n",
    "#utils.draw_line(1,1,-3.5)"
   ]
  },
  {
   "cell_type": "code",
   "execution_count": 64,
   "metadata": {},
   "outputs": [
    {
     "data": {
      "text/plain": [
       "(8, 2)"
      ]
     },
     "execution_count": 64,
     "metadata": {},
     "output_type": "execute_result"
    }
   ],
   "source": [
    "features.shape"
   ]
  },
  {
   "cell_type": "markdown",
   "metadata": {},
   "source": [
    "### Problem 1\n",
    "#### a) How many data points are there? What is represented by the *x-* and *y-* coordinates in the scatter plot?\n",
    "\n",
    "There are 8 data points.\n",
    "\n",
    "The appearances of \"aack\" and \"beep\" in a sentence spoken by the aliens are represented by the *x-* and *y-* coordinates in the scatter plot respectively."
   ]
  },
  {
   "cell_type": "markdown",
   "metadata": {},
   "source": [
    "### Problem 1\n",
    "#### b) In the *labels* array, what is represented by a 0? What is represented by a 1?\n",
    "\n",
    "Referring to the mood of the aliens who said the sentence, being sad is represented by a 0 and being happy is represented by a 1."
   ]
  },
  {
   "cell_type": "markdown",
   "metadata": {},
   "source": [
    "### Coding the perceptron trick"
   ]
  },
  {
   "cell_type": "code",
   "execution_count": 65,
   "metadata": {},
   "outputs": [],
   "source": [
    "def score(weights, bias, features):\n",
    "    return features.dot(weights) + bias\n",
    "\n",
    "def step(x):\n",
    "    if x >= 0:\n",
    "        return 1\n",
    "    else:\n",
    "        return 0\n",
    "\n",
    "def prediction(weights, bias, features):\n",
    "    return step(score(weights, bias, features))\n",
    "\n",
    "def error(weights, bias, features, label):\n",
    "    pred = prediction(weights, bias, features)\n",
    "    if pred == label:\n",
    "        return 0\n",
    "    else:\n",
    "        return np.abs(score(weights, bias, features))\n",
    "\n",
    "def mean_perceptron_error(weights, bias, features, labels):\n",
    "    total_error = 0\n",
    "    for i in range(len(features)):\n",
    "        total_error += error(weights, bias, features[i], labels[i])\n",
    "    return total_error/len(features)"
   ]
  },
  {
   "cell_type": "code",
   "execution_count": 66,
   "metadata": {},
   "outputs": [
    {
     "name": "stdout",
     "output_type": "stream",
     "text": [
      "0 0\n",
      "1 0\n",
      "0 0\n",
      "1 1\n",
      "1 0\n",
      "1 0\n",
      "1 0\n",
      "1 0\n"
     ]
    }
   ],
   "source": [
    "#weights = [1,1]\n",
    "#bias = -3.5\n",
    "weights = [1,2]\n",
    "bias = -4\n",
    "for i in range(len(features)):\n",
    "    print(prediction(weights, bias, features[i]), error(weights, bias, features[i], labels[i]))"
   ]
  },
  {
   "cell_type": "code",
   "execution_count": 67,
   "metadata": {},
   "outputs": [],
   "source": [
    "# First perceptron trick\n",
    "def perceptron_trick(weights, bias, features, label, learning_rate = 0.01):\n",
    "    pred = prediction(weights, bias, features)\n",
    "    if pred == label:\n",
    "        return weights, bias\n",
    "    else:\n",
    "        if label==1 and pred==0:\n",
    "            for i in range(len(weights)):\n",
    "                weights[i] += features[i]*learning_rate\n",
    "            bias += learning_rate\n",
    "        elif label==0 and pred==1:\n",
    "            for i in range(len(weights)):\n",
    "                weights[i] -= features[i]*learning_rate\n",
    "            bias -= learning_rate\n",
    "    return weights, bias"
   ]
  },
  {
   "cell_type": "code",
   "execution_count": 68,
   "metadata": {},
   "outputs": [],
   "source": [
    "# Shorter version of the perceptron trick\n",
    "def perceptron_trick(weights, bias, features, label, learning_rate = 0.01):\n",
    "    pred = prediction(weights, bias, features)\n",
    "    for i in range(len(weights)):\n",
    "        weights[i] += (label-pred)*features[i]*learning_rate\n",
    "        bias += (label-pred)*learning_rate\n",
    "    return weights, bias"
   ]
  },
  {
   "cell_type": "code",
   "execution_count": 69,
   "metadata": {},
   "outputs": [
    {
     "data": {
      "text/plain": [
       "([0.98, 1.97], -4.02)"
      ]
     },
     "execution_count": 69,
     "metadata": {},
     "output_type": "execute_result"
    }
   ],
   "source": [
    "perceptron_trick(weights, bias, features[6], 0)"
   ]
  },
  {
   "cell_type": "markdown",
   "metadata": {},
   "source": [
    "### Running the perceptron algorithm"
   ]
  },
  {
   "cell_type": "code",
   "execution_count": 70,
   "metadata": {},
   "outputs": [],
   "source": [
    "random.seed(0)\n",
    "def perceptron_algorithm(features, labels, learning_rate = 0.01, epochs = 200):\n",
    "    weights = [1.0 for i in range(len(features[0]))]\n",
    "    bias = 0.0\n",
    "    errors = []\n",
    "    for epoch in range(epochs):\n",
    "        # Coment the following line to draw only the final classifier\n",
    "        utils.draw_line(weights[0], weights[1], bias, color='grey', linewidth=1.0, linestyle='dotted')\n",
    "        error = mean_perceptron_error(weights, bias, features, labels)\n",
    "        errors.append(error)\n",
    "        i = random.randint(0, len(features)-1)\n",
    "        weights, bias = perceptron_trick(weights, bias, features[i], labels[i])\n",
    "    utils.draw_line(weights[0], weights[1], bias)\n",
    "    utils.plot_points(features, labels)\n",
    "    plt.show()\n",
    "    plt.scatter(range(epochs), errors)\n",
    "    return weights, bias"
   ]
  },
  {
   "cell_type": "markdown",
   "metadata": {},
   "source": [
    "### Problem 2\n",
    "#### a) What initial weight is given to the number of ‘aacks’ and to the number of ‘beeps’? What is the initial bias?\n",
    "\n",
    "Initial weight 1.0 is given to the number of \"aack\" and the same initial weight 1.0 is given to the number of \"beep\".\n",
    "\n",
    "The initial bias is 0.0."
   ]
  },
  {
   "cell_type": "markdown",
   "metadata": {},
   "source": [
    "### Problem 2\n",
    "#### b) What learning rate is used? Explain how learning rate affects the algorithm.\n",
    "\n",
    "Learning rate of 0.01 is used. \n",
    "\n",
    "Learning rate affects the algorithm. In our perceptron trick, learning rate controls the changes made to the weights and the bias. Learning rate should be a small number, to make sure that the model only changes a small amount by each run of the training. If a large learning rate is used, the results will be jumping and will not be easy to settle down to an optimal solution."
   ]
  },
  {
   "cell_type": "markdown",
   "metadata": {},
   "source": [
    "### Problem 2\n",
    "#### c) Explain what an epoch is. How many epochs are used in training?\n",
    "\n",
    "An epoch is a complete execution of the algorithm, that means, the training data will pass and be trained. The number of times we run the algorithm is the epoch number.\n",
    "\n",
    "200 epochs are used in training."
   ]
  },
  {
   "cell_type": "code",
   "execution_count": 71,
   "metadata": {},
   "outputs": [
    {
     "data": {
      "image/png": "[encoded data removed]",
      "text/plain": [
       "<Figure size 432x288 with 1 Axes>"
      ]
     },
     "metadata": {
      "needs_background": "light"
     },
     "output_type": "display_data"
    },
    {
     "data": {
      "text/plain": [
       "([0.6299999999999997, 0.17999999999999938], -1.0400000000000007)"
      ]
     },
     "execution_count": 71,
     "metadata": {},
     "output_type": "execute_result"
    },
    {
     "data": {
      "image/png": "[encoded data removed]",
      "text/plain": [
       "<Figure size 432x288 with 1 Axes>"
      ]
     },
     "metadata": {
      "needs_background": "light"
     },
     "output_type": "display_data"
    }
   ],
   "source": [
    "perceptron_algorithm(features, labels)"
   ]
  },
  {
   "cell_type": "markdown",
   "metadata": {},
   "source": [
    "### Problem 2\n",
    "#### d) After training, what values are assigned to the ‘aacks’ weight, ‘beeps’ weight and the bias?\n",
    "\n",
    "The \"aack\" weight is 0.63.\n",
    "The \"beep\" weight is 0.18.\n",
    "The bias is -1.04."
   ]
  },
  {
   "cell_type": "markdown",
   "metadata": {},
   "source": [
    "### Problem 2\n",
    "#### e) What percentage of points have the correct prediction?\n",
    "\n",
    "100% of points have the correct prediction.\n",
    "\n",
    "From the plots utils.draw_line(weights[0], weights[1], bias) and utils.plot_points(features, labels), we can see that the line is successfully dividing the happy and sad data points. \n",
    "\n",
    "From the plot plt.scatter(range(epochs), errors), we can see the error is no longer reducing after 140 epochs. It means that all the data points are correctly classified. "
   ]
  },
  {
   "cell_type": "markdown",
   "metadata": {},
   "source": [
    "### Problem 2\n",
    "#### f) From the plot of error vs. epoch, could less epochs have been used to achieve similar performance? Would more training have made a significant improvement?\n",
    "\n",
    "From the plot of error vs. epoch, less epochs could have been used to achieve similar performamce. As the plotted line became flat around 140 epochs, it means that the error is not reduced by training after 140 epochs.\n",
    "\n",
    "More training would not have made a significant improvement because the error will not continue to reduce. After a certain number of training, the error will no longer diminish. "
   ]
  },
  {
   "cell_type": "markdown",
   "metadata": {},
   "source": [
    "### Problem 2\n",
    "#### g) Explain the meaning of stochastic, mini-batch and batch gradient descent.\n",
    "\n",
    "Batch gradient descent means that we use the entrie dataset in an epoch to train a model. It sums the error for each point in a training data set, updates the model only after all training data points have been used. \n",
    "\n",
    "Stochastic gradient descent means that we use one data point at a time in an epoch to train a model. It evaluates the error for one point within a training data set, update the model after this data point is used. \n",
    "\n",
    "Mini-batch gradient descent means that we use one mini-batch at a time in an epoch to train a model. We split our whole dataset into many mini-batches. It sums the error for each mini-batch and update the model after one mini-batch is used. Mini-batch gradient descent is a combined concepts of Batch gradient descent and Stochastic gradient descent. \n",
    "\n",
    "\n"
   ]
  },
  {
   "cell_type": "markdown",
   "metadata": {},
   "source": [
    "### The perceptron algorithm using Turi Create"
   ]
  },
  {
   "cell_type": "code",
   "execution_count": 72,
   "metadata": {},
   "outputs": [],
   "source": [
    "import turicreate as tc"
   ]
  },
  {
   "cell_type": "code",
   "execution_count": 73,
   "metadata": {},
   "outputs": [
    {
     "data": {
      "text/html": [
       "<div style=\"max-height:1000px;max-width:1500px;overflow:auto;\"><table frame=\"box\" rules=\"cols\">\n",
       "    <tr>\n",
       "        <th style=\"padding-left: 1em; padding-right: 1em; text-align: center\">aack</th>\n",
       "        <th style=\"padding-left: 1em; padding-right: 1em; text-align: center\">beep</th>\n",
       "        <th style=\"padding-left: 1em; padding-right: 1em; text-align: center\">prediction</th>\n",
       "    </tr>\n",
       "    <tr>\n",
       "        <td style=\"padding-left: 1em; padding-right: 1em; text-align: center; vertical-align: top\">1</td>\n",
       "        <td style=\"padding-left: 1em; padding-right: 1em; text-align: center; vertical-align: top\">0</td>\n",
       "        <td style=\"padding-left: 1em; padding-right: 1em; text-align: center; vertical-align: top\">0</td>\n",
       "    </tr>\n",
       "    <tr>\n",
       "        <td style=\"padding-left: 1em; padding-right: 1em; text-align: center; vertical-align: top\">0</td>\n",
       "        <td style=\"padding-left: 1em; padding-right: 1em; text-align: center; vertical-align: top\">2</td>\n",
       "        <td style=\"padding-left: 1em; padding-right: 1em; text-align: center; vertical-align: top\">0</td>\n",
       "    </tr>\n",
       "    <tr>\n",
       "        <td style=\"padding-left: 1em; padding-right: 1em; text-align: center; vertical-align: top\">1</td>\n",
       "        <td style=\"padding-left: 1em; padding-right: 1em; text-align: center; vertical-align: top\">1</td>\n",
       "        <td style=\"padding-left: 1em; padding-right: 1em; text-align: center; vertical-align: top\">0</td>\n",
       "    </tr>\n",
       "    <tr>\n",
       "        <td style=\"padding-left: 1em; padding-right: 1em; text-align: center; vertical-align: top\">1</td>\n",
       "        <td style=\"padding-left: 1em; padding-right: 1em; text-align: center; vertical-align: top\">2</td>\n",
       "        <td style=\"padding-left: 1em; padding-right: 1em; text-align: center; vertical-align: top\">0</td>\n",
       "    </tr>\n",
       "    <tr>\n",
       "        <td style=\"padding-left: 1em; padding-right: 1em; text-align: center; vertical-align: top\">1</td>\n",
       "        <td style=\"padding-left: 1em; padding-right: 1em; text-align: center; vertical-align: top\">3</td>\n",
       "        <td style=\"padding-left: 1em; padding-right: 1em; text-align: center; vertical-align: top\">1</td>\n",
       "    </tr>\n",
       "    <tr>\n",
       "        <td style=\"padding-left: 1em; padding-right: 1em; text-align: center; vertical-align: top\">2</td>\n",
       "        <td style=\"padding-left: 1em; padding-right: 1em; text-align: center; vertical-align: top\">2</td>\n",
       "        <td style=\"padding-left: 1em; padding-right: 1em; text-align: center; vertical-align: top\">1</td>\n",
       "    </tr>\n",
       "    <tr>\n",
       "        <td style=\"padding-left: 1em; padding-right: 1em; text-align: center; vertical-align: top\">2</td>\n",
       "        <td style=\"padding-left: 1em; padding-right: 1em; text-align: center; vertical-align: top\">3</td>\n",
       "        <td style=\"padding-left: 1em; padding-right: 1em; text-align: center; vertical-align: top\">1</td>\n",
       "    </tr>\n",
       "    <tr>\n",
       "        <td style=\"padding-left: 1em; padding-right: 1em; text-align: center; vertical-align: top\">3</td>\n",
       "        <td style=\"padding-left: 1em; padding-right: 1em; text-align: center; vertical-align: top\">2</td>\n",
       "        <td style=\"padding-left: 1em; padding-right: 1em; text-align: center; vertical-align: top\">1</td>\n",
       "    </tr>\n",
       "</table>\n",
       "[8 rows x 3 columns]<br/>\n",
       "</div>"
      ],
      "text/plain": [
       "Columns:\n",
       "\taack\tint\n",
       "\tbeep\tint\n",
       "\tprediction\tint\n",
       "\n",
       "Rows: 8\n",
       "\n",
       "Data:\n",
       "+------+------+------------+\n",
       "| aack | beep | prediction |\n",
       "+------+------+------------+\n",
       "|  1   |  0   |     0      |\n",
       "|  0   |  2   |     0      |\n",
       "|  1   |  1   |     0      |\n",
       "|  1   |  2   |     0      |\n",
       "|  1   |  3   |     1      |\n",
       "|  2   |  2   |     1      |\n",
       "|  2   |  3   |     1      |\n",
       "|  3   |  2   |     1      |\n",
       "+------+------+------------+\n",
       "[8 rows x 3 columns]"
      ]
     },
     "execution_count": 73,
     "metadata": {},
     "output_type": "execute_result"
    }
   ],
   "source": [
    "datadict = {'aack': features[:,0], 'beep':features[:,1], 'prediction': labels}\n",
    "data = tc.SFrame(datadict)\n",
    "data"
   ]
  },
  {
   "cell_type": "code",
   "execution_count": 74,
   "metadata": {},
   "outputs": [
    {
     "data": {
      "text/html": [
       "<pre>Logistic regression:</pre>"
      ],
      "text/plain": [
       "Logistic regression:"
      ]
     },
     "metadata": {},
     "output_type": "display_data"
    },
    {
     "data": {
      "text/html": [
       "<pre>--------------------------------------------------------</pre>"
      ],
      "text/plain": [
       "--------------------------------------------------------"
      ]
     },
     "metadata": {},
     "output_type": "display_data"
    },
    {
     "data": {
      "text/html": [
       "<pre>Number of examples          : 8</pre>"
      ],
      "text/plain": [
       "Number of examples          : 8"
      ]
     },
     "metadata": {},
     "output_type": "display_data"
    },
    {
     "data": {
      "text/html": [
       "<pre>Number of classes           : 2</pre>"
      ],
      "text/plain": [
       "Number of classes           : 2"
      ]
     },
     "metadata": {},
     "output_type": "display_data"
    },
    {
     "data": {
      "text/html": [
       "<pre>Number of feature columns   : 2</pre>"
      ],
      "text/plain": [
       "Number of feature columns   : 2"
      ]
     },
     "metadata": {},
     "output_type": "display_data"
    },
    {
     "data": {
      "text/html": [
       "<pre>Number of unpacked features : 2</pre>"
      ],
      "text/plain": [
       "Number of unpacked features : 2"
      ]
     },
     "metadata": {},
     "output_type": "display_data"
    },
    {
     "data": {
      "text/html": [
       "<pre>Number of coefficients      : 3</pre>"
      ],
      "text/plain": [
       "Number of coefficients      : 3"
      ]
     },
     "metadata": {},
     "output_type": "display_data"
    },
    {
     "data": {
      "text/html": [
       "<pre>Starting Newton Method</pre>"
      ],
      "text/plain": [
       "Starting Newton Method"
      ]
     },
     "metadata": {},
     "output_type": "display_data"
    },
    {
     "data": {
      "text/html": [
       "<pre>--------------------------------------------------------</pre>"
      ],
      "text/plain": [
       "--------------------------------------------------------"
      ]
     },
     "metadata": {},
     "output_type": "display_data"
    },
    {
     "data": {
      "text/html": [
       "<pre>+-----------+----------+--------------+-------------------+</pre>"
      ],
      "text/plain": [
       "+-----------+----------+--------------+-------------------+"
      ]
     },
     "metadata": {},
     "output_type": "display_data"
    },
    {
     "data": {
      "text/html": [
       "<pre>| Iteration | Passes   | Elapsed Time | Training Accuracy |</pre>"
      ],
      "text/plain": [
       "| Iteration | Passes   | Elapsed Time | Training Accuracy |"
      ]
     },
     "metadata": {},
     "output_type": "display_data"
    },
    {
     "data": {
      "text/html": [
       "<pre>+-----------+----------+--------------+-------------------+</pre>"
      ],
      "text/plain": [
       "+-----------+----------+--------------+-------------------+"
      ]
     },
     "metadata": {},
     "output_type": "display_data"
    },
    {
     "data": {
      "text/html": [
       "<pre>| 1         | 2        | 0.003313     | 1.000000          |</pre>"
      ],
      "text/plain": [
       "| 1         | 2        | 0.003313     | 1.000000          |"
      ]
     },
     "metadata": {},
     "output_type": "display_data"
    },
    {
     "data": {
      "text/html": [
       "<pre>| 2         | 3        | 0.005879     | 1.000000          |</pre>"
      ],
      "text/plain": [
       "| 2         | 3        | 0.005879     | 1.000000          |"
      ]
     },
     "metadata": {},
     "output_type": "display_data"
    },
    {
     "data": {
      "text/html": [
       "<pre>| 3         | 4        | 0.007516     | 1.000000          |</pre>"
      ],
      "text/plain": [
       "| 3         | 4        | 0.007516     | 1.000000          |"
      ]
     },
     "metadata": {},
     "output_type": "display_data"
    },
    {
     "data": {
      "text/html": [
       "<pre>| 4         | 5        | 0.009055     | 1.000000          |</pre>"
      ],
      "text/plain": [
       "| 4         | 5        | 0.009055     | 1.000000          |"
      ]
     },
     "metadata": {},
     "output_type": "display_data"
    },
    {
     "data": {
      "text/html": [
       "<pre>+-----------+----------+--------------+-------------------+</pre>"
      ],
      "text/plain": [
       "+-----------+----------+--------------+-------------------+"
      ]
     },
     "metadata": {},
     "output_type": "display_data"
    },
    {
     "data": {
      "text/html": [
       "<pre>SUCCESS: Optimal solution found.</pre>"
      ],
      "text/plain": [
       "SUCCESS: Optimal solution found."
      ]
     },
     "metadata": {},
     "output_type": "display_data"
    },
    {
     "data": {
      "text/html": [
       "<pre></pre>"
      ],
      "text/plain": []
     },
     "metadata": {},
     "output_type": "display_data"
    }
   ],
   "source": [
    "perceptron = tc.logistic_classifier.create(data, target='prediction')"
   ]
  },
  {
   "cell_type": "code",
   "execution_count": 75,
   "metadata": {},
   "outputs": [
    {
     "data": {
      "text/html": [
       "<div style=\"max-height:1000px;max-width:1500px;overflow:auto;\"><table frame=\"box\" rules=\"cols\">\n",
       "    <tr>\n",
       "        <th style=\"padding-left: 1em; padding-right: 1em; text-align: center\">name</th>\n",
       "        <th style=\"padding-left: 1em; padding-right: 1em; text-align: center\">index</th>\n",
       "        <th style=\"padding-left: 1em; padding-right: 1em; text-align: center\">class</th>\n",
       "        <th style=\"padding-left: 1em; padding-right: 1em; text-align: center\">value</th>\n",
       "        <th style=\"padding-left: 1em; padding-right: 1em; text-align: center\">stderr</th>\n",
       "    </tr>\n",
       "    <tr>\n",
       "        <td style=\"padding-left: 1em; padding-right: 1em; text-align: center; vertical-align: top\">(intercept)</td>\n",
       "        <td style=\"padding-left: 1em; padding-right: 1em; text-align: center; vertical-align: top\">None</td>\n",
       "        <td style=\"padding-left: 1em; padding-right: 1em; text-align: center; vertical-align: top\">1</td>\n",
       "        <td style=\"padding-left: 1em; padding-right: 1em; text-align: center; vertical-align: top\">-8.959708265685022</td>\n",
       "        <td style=\"padding-left: 1em; padding-right: 1em; text-align: center; vertical-align: top\">6.844844514902377</td>\n",
       "    </tr>\n",
       "    <tr>\n",
       "        <td style=\"padding-left: 1em; padding-right: 1em; text-align: center; vertical-align: top\">aack</td>\n",
       "        <td style=\"padding-left: 1em; padding-right: 1em; text-align: center; vertical-align: top\">None</td>\n",
       "        <td style=\"padding-left: 1em; padding-right: 1em; text-align: center; vertical-align: top\">1</td>\n",
       "        <td style=\"padding-left: 1em; padding-right: 1em; text-align: center; vertical-align: top\">2.972553703911967</td>\n",
       "        <td style=\"padding-left: 1em; padding-right: 1em; text-align: center; vertical-align: top\">2.6977310191336046</td>\n",
       "    </tr>\n",
       "    <tr>\n",
       "        <td style=\"padding-left: 1em; padding-right: 1em; text-align: center; vertical-align: top\">beep</td>\n",
       "        <td style=\"padding-left: 1em; padding-right: 1em; text-align: center; vertical-align: top\">None</td>\n",
       "        <td style=\"padding-left: 1em; padding-right: 1em; text-align: center; vertical-align: top\">1</td>\n",
       "        <td style=\"padding-left: 1em; padding-right: 1em; text-align: center; vertical-align: top\">2.498635186535742</td>\n",
       "        <td style=\"padding-left: 1em; padding-right: 1em; text-align: center; vertical-align: top\">2.4552961030591502</td>\n",
       "    </tr>\n",
       "</table>\n",
       "[3 rows x 5 columns]<br/>\n",
       "</div>"
      ],
      "text/plain": [
       "Columns:\n",
       "\tname\tstr\n",
       "\tindex\tstr\n",
       "\tclass\tint\n",
       "\tvalue\tfloat\n",
       "\tstderr\tfloat\n",
       "\n",
       "Rows: 3\n",
       "\n",
       "Data:\n",
       "+-------------+-------+-------+--------------------+--------------------+\n",
       "|     name    | index | class |       value        |       stderr       |\n",
       "+-------------+-------+-------+--------------------+--------------------+\n",
       "| (intercept) |  None |   1   | -8.959708265685022 | 6.844844514902377  |\n",
       "|     aack    |  None |   1   | 2.972553703911967  | 2.6977310191336046 |\n",
       "|     beep    |  None |   1   | 2.498635186535742  | 2.4552961030591502 |\n",
       "+-------------+-------+-------+--------------------+--------------------+\n",
       "[3 rows x 5 columns]"
      ]
     },
     "execution_count": 75,
     "metadata": {},
     "output_type": "execute_result"
    }
   ],
   "source": [
    "perceptron.coefficients"
   ]
  },
  {
   "cell_type": "markdown",
   "metadata": {},
   "source": [
    "### Problem 3\n",
    "#### a) After training, what values are assigned to the ‘aacks’ weight, ‘beeps’ weight and the bias? Are these values different or the same as those found in the “Running the perceptron algorithm” section?\n",
    "\n",
    "After training, the values assigned to the \"aack\" weight, \"beep\" weight and the bias are 2.972553703911967, 2.498635186535742 and -8.959708265685022 respectively.\n",
    "\n",
    "These values are different from those found in the \"Running the perceptron algorithm\" section.\n"
   ]
  },
  {
   "cell_type": "markdown",
   "metadata": {},
   "source": [
    "### Problem 3\n",
    "#### b) What percentage of points have the correct prediction? How does this compare with the results of the “Running the perceptron algorithm” section?\n",
    "\n",
    "As the prediction is same as label for all data point and the training accuracy is 1, 100% of points have the correct prediction. \n",
    "\n",
    "This is the same as with the results of the \"Running the perceptron algorithm\" section."
   ]
  },
  {
   "cell_type": "markdown",
   "metadata": {},
   "source": [
    "### Problem 3\n",
    "#### c) Is there only a single choice of weights and bias that gets the predictions correct, or are there other choices of weights and bias that would achieve the same accuracy? Explain.\n",
    "\n",
    "There is not only a single choice of weights and bias. There are other choices of weights and bias that would achieve the same accuracy. The step-by-step perceptron trick and the turicreate package both provide a 100% correct prediction yet the weights and bias are of different values. In a classification problem, it is possible that we can successful classify all the points correctly with two different sets of weights and bias. If we check the plots, we can see that the line used to divide happy and sad is not confined to one location. There is a range of the location for the line while all the lines are able to divide happy and sad successfully."
   ]
  },
  {
   "cell_type": "code",
   "execution_count": null,
   "metadata": {},
   "outputs": [],
   "source": []
  }
 ],
 "metadata": {
  "kernelspec": {
   "display_name": "Python 3",
   "language": "python",
   "name": "python3"
  },
  "language_info": {
   "codemirror_mode": {
    "name": "ipython",
    "version": 3
   },
   "file_extension": ".py",
   "mimetype": "text/x-python",
   "name": "python",
   "nbconvert_exporter": "python",
   "pygments_lexer": "ipython3",
   "version": "3.6.9"
  }
 },
 "nbformat": 4,
 "nbformat_minor": 2
}
