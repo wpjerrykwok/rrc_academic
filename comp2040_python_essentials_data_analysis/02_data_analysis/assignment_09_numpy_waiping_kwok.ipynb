{
 "cells": [
  {
   "cell_type": "markdown",
   "metadata": {},
   "source": [
    "Import the numpy module"
   ]
  },
  {
   "cell_type": "code",
   "execution_count": 13,
   "metadata": {},
   "outputs": [],
   "source": [
    "import numpy as np"
   ]
  },
  {
   "cell_type": "markdown",
   "metadata": {},
   "source": [
    "Create a 1d numpy array called arr1 that looks like the one below. Display it."
   ]
  },
  {
   "cell_type": "code",
   "execution_count": 14,
   "metadata": {},
   "outputs": [
    {
     "data": {
      "text/plain": [
       "array([ 3,  6,  9, 12, 15])"
      ]
     },
     "execution_count": 14,
     "metadata": {},
     "output_type": "execute_result"
    }
   ],
   "source": [
    "list1 = [3, 6, 9, 12, 15]\n",
    "arr1 = np.array(list1)\n",
    "arr1"
   ]
  },
  {
   "cell_type": "markdown",
   "metadata": {},
   "source": [
    "Print out the 3rd element of the array."
   ]
  },
  {
   "cell_type": "code",
   "execution_count": 15,
   "metadata": {},
   "outputs": [
    {
     "data": {
      "text/plain": [
       "9"
      ]
     },
     "execution_count": 15,
     "metadata": {},
     "output_type": "execute_result"
    }
   ],
   "source": [
    "arr1[2]"
   ]
  },
  {
   "cell_type": "markdown",
   "metadata": {},
   "source": [
    "Create a 2d numpy array called arr2 that looks like the one below. Display it."
   ]
  },
  {
   "cell_type": "code",
   "execution_count": 16,
   "metadata": {},
   "outputs": [
    {
     "data": {
      "text/plain": [
       "array([[ 2,  4,  6],\n",
       "       [ 3,  6,  9],\n",
       "       [ 4,  8, 12]])"
      ]
     },
     "execution_count": 16,
     "metadata": {},
     "output_type": "execute_result"
    }
   ],
   "source": [
    "list2 = [[2, 4, 6], [3, 6, 9], [4, 8, 12]]\n",
    "arr2 = np.array(list2)\n",
    "arr2"
   ]
  },
  {
   "cell_type": "markdown",
   "metadata": {},
   "source": [
    "Print out the element at row index=2, col index=1."
   ]
  },
  {
   "cell_type": "code",
   "execution_count": 17,
   "metadata": {},
   "outputs": [
    {
     "data": {
      "text/plain": [
       "8"
      ]
     },
     "execution_count": 17,
     "metadata": {},
     "output_type": "execute_result"
    }
   ],
   "source": [
    "arr2[2,1]"
   ]
  },
  {
   "cell_type": "markdown",
   "metadata": {},
   "source": [
    "Create an array that goes from 0 to 100 with step=3. Display it."
   ]
  },
  {
   "cell_type": "code",
   "execution_count": 18,
   "metadata": {},
   "outputs": [
    {
     "data": {
      "text/plain": [
       "array([ 0,  3,  6,  9, 12, 15, 18, 21, 24, 27, 30, 33, 36, 39, 42, 45, 48,\n",
       "       51, 54, 57, 60, 63, 66, 69, 72, 75, 78, 81, 84, 87, 90, 93, 96, 99])"
      ]
     },
     "execution_count": 18,
     "metadata": {},
     "output_type": "execute_result"
    }
   ],
   "source": [
    "np.arange(start=0, stop=100, step=3)"
   ]
  },
  {
   "cell_type": "markdown",
   "metadata": {},
   "source": [
    "Create a 10x5 2d array filled with zeroes. Display it."
   ]
  },
  {
   "cell_type": "code",
   "execution_count": 19,
   "metadata": {},
   "outputs": [
    {
     "data": {
      "text/plain": [
       "array([[0., 0., 0., 0., 0.],\n",
       "       [0., 0., 0., 0., 0.],\n",
       "       [0., 0., 0., 0., 0.],\n",
       "       [0., 0., 0., 0., 0.],\n",
       "       [0., 0., 0., 0., 0.],\n",
       "       [0., 0., 0., 0., 0.],\n",
       "       [0., 0., 0., 0., 0.],\n",
       "       [0., 0., 0., 0., 0.],\n",
       "       [0., 0., 0., 0., 0.],\n",
       "       [0., 0., 0., 0., 0.]])"
      ]
     },
     "execution_count": 19,
     "metadata": {},
     "output_type": "execute_result"
    }
   ],
   "source": [
    "np.zeros(shape=(10,5))"
   ]
  },
  {
   "cell_type": "markdown",
   "metadata": {},
   "source": [
    "Create an array called lin1d, that has 100 data points spaced between 57 and 108. Display it."
   ]
  },
  {
   "cell_type": "code",
   "execution_count": 20,
   "metadata": {},
   "outputs": [
    {
     "data": {
      "text/plain": [
       "array([ 57.        ,  57.51515152,  58.03030303,  58.54545455,\n",
       "        59.06060606,  59.57575758,  60.09090909,  60.60606061,\n",
       "        61.12121212,  61.63636364,  62.15151515,  62.66666667,\n",
       "        63.18181818,  63.6969697 ,  64.21212121,  64.72727273,\n",
       "        65.24242424,  65.75757576,  66.27272727,  66.78787879,\n",
       "        67.3030303 ,  67.81818182,  68.33333333,  68.84848485,\n",
       "        69.36363636,  69.87878788,  70.39393939,  70.90909091,\n",
       "        71.42424242,  71.93939394,  72.45454545,  72.96969697,\n",
       "        73.48484848,  74.        ,  74.51515152,  75.03030303,\n",
       "        75.54545455,  76.06060606,  76.57575758,  77.09090909,\n",
       "        77.60606061,  78.12121212,  78.63636364,  79.15151515,\n",
       "        79.66666667,  80.18181818,  80.6969697 ,  81.21212121,\n",
       "        81.72727273,  82.24242424,  82.75757576,  83.27272727,\n",
       "        83.78787879,  84.3030303 ,  84.81818182,  85.33333333,\n",
       "        85.84848485,  86.36363636,  86.87878788,  87.39393939,\n",
       "        87.90909091,  88.42424242,  88.93939394,  89.45454545,\n",
       "        89.96969697,  90.48484848,  91.        ,  91.51515152,\n",
       "        92.03030303,  92.54545455,  93.06060606,  93.57575758,\n",
       "        94.09090909,  94.60606061,  95.12121212,  95.63636364,\n",
       "        96.15151515,  96.66666667,  97.18181818,  97.6969697 ,\n",
       "        98.21212121,  98.72727273,  99.24242424,  99.75757576,\n",
       "       100.27272727, 100.78787879, 101.3030303 , 101.81818182,\n",
       "       102.33333333, 102.84848485, 103.36363636, 103.87878788,\n",
       "       104.39393939, 104.90909091, 105.42424242, 105.93939394,\n",
       "       106.45454545, 106.96969697, 107.48484848, 108.        ])"
      ]
     },
     "execution_count": 20,
     "metadata": {},
     "output_type": "execute_result"
    }
   ],
   "source": [
    "lin1d = np.linspace(start=57, stop=108, num=100)\n",
    "lin1d"
   ]
  },
  {
   "cell_type": "markdown",
   "metadata": {},
   "source": [
    "Reshape lin1d to be 10x10 and call it lin2d. Display it."
   ]
  },
  {
   "cell_type": "code",
   "execution_count": 30,
   "metadata": {},
   "outputs": [
    {
     "data": {
      "text/plain": [
       "array([[ 57.        ,  57.51515152,  58.03030303,  58.54545455,\n",
       "         59.06060606,  59.57575758,  60.09090909,  60.60606061,\n",
       "         61.12121212,  61.63636364],\n",
       "       [ 62.15151515,  62.66666667,  63.18181818,  63.6969697 ,\n",
       "         64.21212121,  64.72727273,  65.24242424,  65.75757576,\n",
       "         66.27272727,  66.78787879],\n",
       "       [ 67.3030303 ,  67.81818182,  68.33333333,  68.84848485,\n",
       "         69.36363636,  69.87878788,  70.39393939,  70.90909091,\n",
       "         71.42424242,  71.93939394],\n",
       "       [ 72.45454545,  72.96969697,  73.48484848,  74.        ,\n",
       "         74.51515152,  75.03030303,  75.54545455,  76.06060606,\n",
       "         76.57575758,  77.09090909],\n",
       "       [ 77.60606061,  78.12121212,  78.63636364,  79.15151515,\n",
       "         79.66666667,  80.18181818,  80.6969697 ,  81.21212121,\n",
       "         81.72727273,  82.24242424],\n",
       "       [ 82.75757576,  83.27272727,  83.78787879,  84.3030303 ,\n",
       "         84.81818182,  85.33333333,  85.84848485,  86.36363636,\n",
       "         86.87878788,  87.39393939],\n",
       "       [ 87.90909091,  88.42424242,  88.93939394,  89.45454545,\n",
       "         89.96969697,  90.48484848,  91.        ,  91.51515152,\n",
       "         92.03030303,  92.54545455],\n",
       "       [ 93.06060606,  93.57575758,  94.09090909,  94.60606061,\n",
       "         95.12121212,  95.63636364,  96.15151515,  96.66666667,\n",
       "         97.18181818,  97.6969697 ],\n",
       "       [ 98.21212121,  98.72727273,  99.24242424,  99.75757576,\n",
       "        100.27272727, 100.78787879, 101.3030303 , 101.81818182,\n",
       "        102.33333333, 102.84848485],\n",
       "       [103.36363636, 103.87878788, 104.39393939, 104.90909091,\n",
       "        105.42424242, 105.93939394, 106.45454545, 106.96969697,\n",
       "        107.48484848, 108.        ]])"
      ]
     },
     "execution_count": 30,
     "metadata": {},
     "output_type": "execute_result"
    }
   ],
   "source": [
    "lin2d = lin1d.reshape(10,10)\n",
    "lin2d"
   ]
  },
  {
   "cell_type": "markdown",
   "metadata": {},
   "source": [
    "Print out the shape of lin1d and lin2d."
   ]
  },
  {
   "cell_type": "code",
   "execution_count": 22,
   "metadata": {},
   "outputs": [
    {
     "name": "stdout",
     "output_type": "stream",
     "text": [
      "lin1d: (100,)\n",
      "lin2d: (10, 10)\n"
     ]
    }
   ],
   "source": [
    "print(\"lin1d:\", lin1d.shape)\n",
    "print(\"lin2d:\", lin2d.shape)"
   ]
  },
  {
   "cell_type": "markdown",
   "metadata": {},
   "source": [
    "Generate a 5x5 array of random numbers called nums. Display it."
   ]
  },
  {
   "cell_type": "code",
   "execution_count": 23,
   "metadata": {},
   "outputs": [
    {
     "data": {
      "text/plain": [
       "array([[0.64517717, 0.6777465 , 0.77972566, 0.6006764 , 0.19146619],\n",
       "       [0.84952113, 0.30661651, 0.94454836, 0.62590516, 0.33354171],\n",
       "       [0.77438488, 0.07866406, 0.75203167, 0.25204271, 0.77129297],\n",
       "       [0.2910817 , 0.32820439, 0.24923474, 0.13210626, 0.46791753],\n",
       "       [0.57930079, 0.53379116, 0.57096518, 0.60852422, 0.35592309]])"
      ]
     },
     "execution_count": 23,
     "metadata": {},
     "output_type": "execute_result"
    }
   ],
   "source": [
    "nums = np.random.rand(5,5)\n",
    "nums"
   ]
  },
  {
   "cell_type": "markdown",
   "metadata": {},
   "source": [
    "Print out the min, max and mean of the nums array."
   ]
  },
  {
   "cell_type": "code",
   "execution_count": 24,
   "metadata": {},
   "outputs": [
    {
     "name": "stdout",
     "output_type": "stream",
     "text": [
      "Min: 0.07866406165705386\n",
      "Max: 0.9445483583601585\n",
      "Mean: 0.5080156054144396\n"
     ]
    }
   ],
   "source": [
    "print(\"Min:\", nums.min())\n",
    "print(\"Max:\", nums.max())\n",
    "print(\"Mean:\", nums.mean())"
   ]
  },
  {
   "cell_type": "markdown",
   "metadata": {},
   "source": [
    "Multiple the entire array nums x2 and store it back in nums. Display the result."
   ]
  },
  {
   "cell_type": "code",
   "execution_count": 25,
   "metadata": {},
   "outputs": [
    {
     "data": {
      "text/plain": [
       "array([[1.29035433, 1.355493  , 1.55945132, 1.2013528 , 0.38293239],\n",
       "       [1.69904227, 0.61323302, 1.88909672, 1.25181031, 0.66708343],\n",
       "       [1.54876976, 0.15732812, 1.50406335, 0.50408543, 1.54258593],\n",
       "       [0.5821634 , 0.65640878, 0.49846949, 0.26421253, 0.93583505],\n",
       "       [1.15860157, 1.06758232, 1.14193035, 1.21704844, 0.71184618]])"
      ]
     },
     "execution_count": 25,
     "metadata": {},
     "output_type": "execute_result"
    }
   ],
   "source": [
    "nums = nums * 2\n",
    "nums"
   ]
  },
  {
   "cell_type": "markdown",
   "metadata": {},
   "source": [
    "Select row index 1 to 2 and col index 2 to 3 and display the result."
   ]
  },
  {
   "cell_type": "code",
   "execution_count": 26,
   "metadata": {},
   "outputs": [
    {
     "data": {
      "text/plain": [
       "array([[1.88909672, 1.25181031],\n",
       "       [1.50406335, 0.50408543]])"
      ]
     },
     "execution_count": 26,
     "metadata": {},
     "output_type": "execute_result"
    }
   ],
   "source": [
    "nums[1:3, 2:4]"
   ]
  },
  {
   "cell_type": "markdown",
   "metadata": {},
   "source": [
    "Modify that same selection by multiplying it x10, then display the new nums array."
   ]
  },
  {
   "cell_type": "code",
   "execution_count": 27,
   "metadata": {},
   "outputs": [
    {
     "data": {
      "text/plain": [
       "array([[ 1.29035433,  1.355493  ,  1.55945132,  1.2013528 ,  0.38293239],\n",
       "       [ 1.69904227,  0.61323302, 18.89096717, 12.51810312,  0.66708343],\n",
       "       [ 1.54876976,  0.15732812, 15.04063349,  5.04085426,  1.54258593],\n",
       "       [ 0.5821634 ,  0.65640878,  0.49846949,  0.26421253,  0.93583505],\n",
       "       [ 1.15860157,  1.06758232,  1.14193035,  1.21704844,  0.71184618]])"
      ]
     },
     "execution_count": 27,
     "metadata": {},
     "output_type": "execute_result"
    }
   ],
   "source": [
    "nums[1:3, 2:4] = nums[1:3, 2:4] * 10\n",
    "nums"
   ]
  }
 ],
 "metadata": {
  "kernelspec": {
   "display_name": "Python 3 (ipykernel)",
   "language": "python",
   "name": "python3"
  },
  "language_info": {
   "codemirror_mode": {
    "name": "ipython",
    "version": 3
   },
   "file_extension": ".py",
   "mimetype": "text/x-python",
   "name": "python",
   "nbconvert_exporter": "python",
   "pygments_lexer": "ipython3",
   "version": "3.11.1"
  }
 },
 "nbformat": 4,
 "nbformat_minor": 2
}
