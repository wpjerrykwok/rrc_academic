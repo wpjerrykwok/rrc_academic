{
 "cells": [
  {
   "cell_type": "markdown",
   "id": "8e94ceaf",
   "metadata": {},
   "source": [
    "### Problem 4\n",
    "In this question you will import data from the CSV file created in the Setup section above."
   ]
  },
  {
   "cell_type": "markdown",
   "id": "8d60078d",
   "metadata": {},
   "source": [
    "### Problem 4\n",
    "This data represents the condition of an electrical mini-substation based on readings from voltage, current and temperature sensor readings. A condition of ‘0’ represents a properly functioning device, while a condition of ‘1’ represents failure."
   ]
  },
  {
   "cell_type": "markdown",
   "id": "e22030ae",
   "metadata": {},
   "source": [
    "### Problem 4\n",
    "#### a) Which is worse for this use case, a false positive or a false negative? What value of β would be suitable for an Fβ score?\n",
    "\n",
    "Let's take positive (a condition of \"1\") as a failure in device and negative (a condition of \"0\") as a properly functioning device.\n",
    "For this use case, a false negative is worse.\n",
    "\n",
    "A false positive will trigger the alert to the engineers. They will go and check but only to find out the electrical mini-substation is functioning properly. Although resources are used to do this check, it is still fine.\n",
    "\n",
    "A false negative will cover up a failure in device and let the engineers think that the device is functioning properly. They cannot fix the failure in time. As a result, the electrical mini-substation may fail entirely and the loss can be huge.\n",
    "\n",
    "Recall measures how many of positive points were correctly predicted by the model. Recall is low when the model creates many false negatives. Recall is a useful metric in models in which we don’t want many false negatives. Since higher values of β give recall more importance, and lower values of β give precision more importance, we would take a higher value of β. A value of 10 for β would be suitable for an Fβ score."
   ]
  },
  {
   "cell_type": "markdown",
   "id": "c216d446",
   "metadata": {},
   "source": [
    "### Problem 4\n",
    "#### b) Load the CSV file into an SFrame named data. Print the SFrame. Split the data into training/validation/testing sets using 80%/10%/10% respectively."
   ]
  },
  {
   "cell_type": "code",
   "execution_count": 427,
   "id": "7525c13a",
   "metadata": {},
   "outputs": [],
   "source": [
    "# import packages\n",
    "import matplotlib.pyplot as plt\n",
    "import numpy as np\n",
    "import pandas as pd\n",
    "import random\n",
    "import turicreate as tc\n",
    "import seaborn as sns\n",
    "from prettytable import PrettyTable as pp"
   ]
  },
  {
   "cell_type": "code",
   "execution_count": 428,
   "id": "8be2816b",
   "metadata": {},
   "outputs": [
    {
     "data": {
      "text/html": [
       "<pre>Finished parsing file /home/jryk/data/rrc_academic/comp2704_supervised_machine_learning/assignment_03/0380915_data.csv</pre>"
      ],
      "text/plain": [
       "Finished parsing file /home/jryk/data/rrc_academic/comp2704_supervised_machine_learning/assignment_03/0380915_data.csv"
      ]
     },
     "metadata": {},
     "output_type": "display_data"
    },
    {
     "name": "stdout",
     "output_type": "stream",
     "text": [
      "------------------------------------------------------\n",
      "Inferred types from first 100 line(s) of file as \n",
      "column_type_hints=[int,float,float,float]\n",
      "If parsing fails due to incorrect types, you can correct\n",
      "the inferred type list above and pass it to read_csv in\n",
      "the column_type_hints argument\n",
      "------------------------------------------------------\n"
     ]
    },
    {
     "data": {
      "text/html": [
       "<pre>Parsing completed. Parsed 100 lines in 0.025702 secs.</pre>"
      ],
      "text/plain": [
       "Parsing completed. Parsed 100 lines in 0.025702 secs."
      ]
     },
     "metadata": {},
     "output_type": "display_data"
    },
    {
     "data": {
      "text/html": [
       "<pre>Finished parsing file /home/jryk/data/rrc_academic/comp2704_supervised_machine_learning/assignment_03/0380915_data.csv</pre>"
      ],
      "text/plain": [
       "Finished parsing file /home/jryk/data/rrc_academic/comp2704_supervised_machine_learning/assignment_03/0380915_data.csv"
      ]
     },
     "metadata": {},
     "output_type": "display_data"
    },
    {
     "data": {
      "text/html": [
       "<pre>Parsing completed. Parsed 1000 lines in 0.005727 secs.</pre>"
      ],
      "text/plain": [
       "Parsing completed. Parsed 1000 lines in 0.005727 secs."
      ]
     },
     "metadata": {},
     "output_type": "display_data"
    }
   ],
   "source": [
    "# load the csv file into SFrame named data\n",
    "data = tc.SFrame.read_csv(\"0380915_data.csv\")"
   ]
  },
  {
   "cell_type": "code",
   "execution_count": 429,
   "id": "e8f188ce",
   "metadata": {},
   "outputs": [
    {
     "data": {
      "text/html": [
       "<div style=\"max-height:1000px;max-width:1500px;overflow:auto;\"><table frame=\"box\" rules=\"cols\">\n",
       "    <tr>\n",
       "        <th style=\"padding-left: 1em; padding-right: 1em; text-align: center\">Condition</th>\n",
       "        <th style=\"padding-left: 1em; padding-right: 1em; text-align: center\">Voltage</th>\n",
       "        <th style=\"padding-left: 1em; padding-right: 1em; text-align: center\">Current</th>\n",
       "        <th style=\"padding-left: 1em; padding-right: 1em; text-align: center\">Temperature</th>\n",
       "    </tr>\n",
       "    <tr>\n",
       "        <td style=\"padding-left: 1em; padding-right: 1em; text-align: center; vertical-align: top\">1</td>\n",
       "        <td style=\"padding-left: 1em; padding-right: 1em; text-align: center; vertical-align: top\">25.666912748577367</td>\n",
       "        <td style=\"padding-left: 1em; padding-right: 1em; text-align: center; vertical-align: top\">443.1776787138455</td>\n",
       "        <td style=\"padding-left: 1em; padding-right: 1em; text-align: center; vertical-align: top\">39.04298008669625</td>\n",
       "    </tr>\n",
       "    <tr>\n",
       "        <td style=\"padding-left: 1em; padding-right: 1em; text-align: center; vertical-align: top\">1</td>\n",
       "        <td style=\"padding-left: 1em; padding-right: 1em; text-align: center; vertical-align: top\">24.93619269601364</td>\n",
       "        <td style=\"padding-left: 1em; padding-right: 1em; text-align: center; vertical-align: top\">443.7752058654272</td>\n",
       "        <td style=\"padding-left: 1em; padding-right: 1em; text-align: center; vertical-align: top\">36.615609013862766</td>\n",
       "    </tr>\n",
       "    <tr>\n",
       "        <td style=\"padding-left: 1em; padding-right: 1em; text-align: center; vertical-align: top\">1</td>\n",
       "        <td style=\"padding-left: 1em; padding-right: 1em; text-align: center; vertical-align: top\">26.431378686661073</td>\n",
       "        <td style=\"padding-left: 1em; padding-right: 1em; text-align: center; vertical-align: top\">440.70519661137064</td>\n",
       "        <td style=\"padding-left: 1em; padding-right: 1em; text-align: center; vertical-align: top\">59.53153475566279</td>\n",
       "    </tr>\n",
       "    <tr>\n",
       "        <td style=\"padding-left: 1em; padding-right: 1em; text-align: center; vertical-align: top\">1</td>\n",
       "        <td style=\"padding-left: 1em; padding-right: 1em; text-align: center; vertical-align: top\">25.75551597941211</td>\n",
       "        <td style=\"padding-left: 1em; padding-right: 1em; text-align: center; vertical-align: top\">444.45465600218176</td>\n",
       "        <td style=\"padding-left: 1em; padding-right: 1em; text-align: center; vertical-align: top\">42.75831261815376</td>\n",
       "    </tr>\n",
       "    <tr>\n",
       "        <td style=\"padding-left: 1em; padding-right: 1em; text-align: center; vertical-align: top\">1</td>\n",
       "        <td style=\"padding-left: 1em; padding-right: 1em; text-align: center; vertical-align: top\">25.97123695471139</td>\n",
       "        <td style=\"padding-left: 1em; padding-right: 1em; text-align: center; vertical-align: top\">442.8046424128778</td>\n",
       "        <td style=\"padding-left: 1em; padding-right: 1em; text-align: center; vertical-align: top\">37.65621788818368</td>\n",
       "    </tr>\n",
       "    <tr>\n",
       "        <td style=\"padding-left: 1em; padding-right: 1em; text-align: center; vertical-align: top\">1</td>\n",
       "        <td style=\"padding-left: 1em; padding-right: 1em; text-align: center; vertical-align: top\">25.88350340890212</td>\n",
       "        <td style=\"padding-left: 1em; padding-right: 1em; text-align: center; vertical-align: top\">444.5814752212545</td>\n",
       "        <td style=\"padding-left: 1em; padding-right: 1em; text-align: center; vertical-align: top\">39.4083109258523</td>\n",
       "    </tr>\n",
       "    <tr>\n",
       "        <td style=\"padding-left: 1em; padding-right: 1em; text-align: center; vertical-align: top\">0</td>\n",
       "        <td style=\"padding-left: 1em; padding-right: 1em; text-align: center; vertical-align: top\">26.94535437487196</td>\n",
       "        <td style=\"padding-left: 1em; padding-right: 1em; text-align: center; vertical-align: top\">442.3878725340347</td>\n",
       "        <td style=\"padding-left: 1em; padding-right: 1em; text-align: center; vertical-align: top\">45.120200601609525</td>\n",
       "    </tr>\n",
       "    <tr>\n",
       "        <td style=\"padding-left: 1em; padding-right: 1em; text-align: center; vertical-align: top\">1</td>\n",
       "        <td style=\"padding-left: 1em; padding-right: 1em; text-align: center; vertical-align: top\">26.490910090226947</td>\n",
       "        <td style=\"padding-left: 1em; padding-right: 1em; text-align: center; vertical-align: top\">444.4899725301915</td>\n",
       "        <td style=\"padding-left: 1em; padding-right: 1em; text-align: center; vertical-align: top\">40.08125414679967</td>\n",
       "    </tr>\n",
       "    <tr>\n",
       "        <td style=\"padding-left: 1em; padding-right: 1em; text-align: center; vertical-align: top\">1</td>\n",
       "        <td style=\"padding-left: 1em; padding-right: 1em; text-align: center; vertical-align: top\">25.279176510841378</td>\n",
       "        <td style=\"padding-left: 1em; padding-right: 1em; text-align: center; vertical-align: top\">442.3930666295656</td>\n",
       "        <td style=\"padding-left: 1em; padding-right: 1em; text-align: center; vertical-align: top\">38.47134221045628</td>\n",
       "    </tr>\n",
       "    <tr>\n",
       "        <td style=\"padding-left: 1em; padding-right: 1em; text-align: center; vertical-align: top\">1</td>\n",
       "        <td style=\"padding-left: 1em; padding-right: 1em; text-align: center; vertical-align: top\">26.083107828134683</td>\n",
       "        <td style=\"padding-left: 1em; padding-right: 1em; text-align: center; vertical-align: top\">441.3197317953561</td>\n",
       "        <td style=\"padding-left: 1em; padding-right: 1em; text-align: center; vertical-align: top\">52.22772264719654</td>\n",
       "    </tr>\n",
       "</table>\n",
       "[1000 rows x 4 columns]<br/>Note: Only the head of the SFrame is printed.<br/>You can use print_rows(num_rows=m, num_columns=n) to print more rows and columns.\n",
       "</div>"
      ],
      "text/plain": [
       "Columns:\n",
       "\tCondition\tint\n",
       "\tVoltage\tfloat\n",
       "\tCurrent\tfloat\n",
       "\tTemperature\tfloat\n",
       "\n",
       "Rows: 1000\n",
       "\n",
       "Data:\n",
       "+-----------+--------------------+--------------------+--------------------+\n",
       "| Condition |      Voltage       |      Current       |    Temperature     |\n",
       "+-----------+--------------------+--------------------+--------------------+\n",
       "|     1     | 25.666912748577367 | 443.1776787138455  | 39.04298008669625  |\n",
       "|     1     | 24.93619269601364  | 443.7752058654272  | 36.615609013862766 |\n",
       "|     1     | 26.431378686661073 | 440.70519661137064 | 59.53153475566279  |\n",
       "|     1     | 25.75551597941211  | 444.45465600218176 | 42.75831261815376  |\n",
       "|     1     | 25.97123695471139  | 442.8046424128778  | 37.65621788818368  |\n",
       "|     1     | 25.88350340890212  | 444.5814752212545  |  39.4083109258523  |\n",
       "|     0     | 26.94535437487196  | 442.3878725340347  | 45.120200601609525 |\n",
       "|     1     | 26.490910090226947 | 444.4899725301915  | 40.08125414679967  |\n",
       "|     1     | 25.279176510841378 | 442.3930666295656  | 38.47134221045628  |\n",
       "|     1     | 26.083107828134683 | 441.3197317953561  | 52.22772264719654  |\n",
       "+-----------+--------------------+--------------------+--------------------+\n",
       "[1000 rows x 4 columns]\n",
       "Note: Only the head of the SFrame is printed.\n",
       "You can use print_rows(num_rows=m, num_columns=n) to print more rows and columns."
      ]
     },
     "execution_count": 429,
     "metadata": {},
     "output_type": "execute_result"
    }
   ],
   "source": [
    "# print the SFrame\n",
    "data"
   ]
  },
  {
   "cell_type": "code",
   "execution_count": 430,
   "id": "29f1a0ec",
   "metadata": {},
   "outputs": [],
   "source": [
    "# load the data into Pandas DataFrame for further analysis of input data\n",
    "data_pd = data.to_dataframe()"
   ]
  },
  {
   "cell_type": "code",
   "execution_count": 431,
   "id": "09b8c5b1",
   "metadata": {},
   "outputs": [
    {
     "name": "stdout",
     "output_type": "stream",
     "text": [
      "<class 'pandas.core.frame.DataFrame'>\n",
      "RangeIndex: 1000 entries, 0 to 999\n",
      "Data columns (total 4 columns):\n",
      " #   Column       Non-Null Count  Dtype  \n",
      "---  ------       --------------  -----  \n",
      " 0   Condition    1000 non-null   int64  \n",
      " 1   Voltage      1000 non-null   float64\n",
      " 2   Current      1000 non-null   float64\n",
      " 3   Temperature  1000 non-null   float64\n",
      "dtypes: float64(3), int64(1)\n",
      "memory usage: 31.4 KB\n"
     ]
    }
   ],
   "source": [
    "# display info\n",
    "# 4 columns of 1000 data points, all non-null \n",
    "# Condition is int; the rest are float\n",
    "data_pd.info()"
   ]
  },
  {
   "cell_type": "code",
   "execution_count": 432,
   "id": "e94e5283",
   "metadata": {},
   "outputs": [
    {
     "data": {
      "text/html": [
       "<div>\n",
       "<style scoped>\n",
       "    .dataframe tbody tr th:only-of-type {\n",
       "        vertical-align: middle;\n",
       "    }\n",
       "\n",
       "    .dataframe tbody tr th {\n",
       "        vertical-align: top;\n",
       "    }\n",
       "\n",
       "    .dataframe thead th {\n",
       "        text-align: right;\n",
       "    }\n",
       "</style>\n",
       "<table border=\"1\" class=\"dataframe\">\n",
       "  <thead>\n",
       "    <tr style=\"text-align: right;\">\n",
       "      <th></th>\n",
       "      <th>Condition</th>\n",
       "      <th>Voltage</th>\n",
       "      <th>Current</th>\n",
       "      <th>Temperature</th>\n",
       "    </tr>\n",
       "  </thead>\n",
       "  <tbody>\n",
       "    <tr>\n",
       "      <th>count</th>\n",
       "      <td>1000.000000</td>\n",
       "      <td>1000.000000</td>\n",
       "      <td>1000.000000</td>\n",
       "      <td>1000.000000</td>\n",
       "    </tr>\n",
       "    <tr>\n",
       "      <th>mean</th>\n",
       "      <td>0.492000</td>\n",
       "      <td>13.343123</td>\n",
       "      <td>2431.442841</td>\n",
       "      <td>79.894669</td>\n",
       "    </tr>\n",
       "    <tr>\n",
       "      <th>std</th>\n",
       "      <td>0.500186</td>\n",
       "      <td>12.669705</td>\n",
       "      <td>1990.370210</td>\n",
       "      <td>33.993498</td>\n",
       "    </tr>\n",
       "    <tr>\n",
       "      <th>min</th>\n",
       "      <td>0.000000</td>\n",
       "      <td>0.665669</td>\n",
       "      <td>435.651881</td>\n",
       "      <td>35.021974</td>\n",
       "    </tr>\n",
       "    <tr>\n",
       "      <th>25%</th>\n",
       "      <td>0.000000</td>\n",
       "      <td>0.700784</td>\n",
       "      <td>442.088832</td>\n",
       "      <td>46.384343</td>\n",
       "    </tr>\n",
       "    <tr>\n",
       "      <th>50%</th>\n",
       "      <td>0.000000</td>\n",
       "      <td>11.536531</td>\n",
       "      <td>2419.554764</td>\n",
       "      <td>77.556892</td>\n",
       "    </tr>\n",
       "    <tr>\n",
       "      <th>75%</th>\n",
       "      <td>1.000000</td>\n",
       "      <td>26.005802</td>\n",
       "      <td>4421.033030</td>\n",
       "      <td>112.918979</td>\n",
       "    </tr>\n",
       "    <tr>\n",
       "      <th>max</th>\n",
       "      <td>1.000000</td>\n",
       "      <td>29.125338</td>\n",
       "      <td>4449.956595</td>\n",
       "      <td>129.991582</td>\n",
       "    </tr>\n",
       "  </tbody>\n",
       "</table>\n",
       "</div>"
      ],
      "text/plain": [
       "         Condition      Voltage      Current  Temperature\n",
       "count  1000.000000  1000.000000  1000.000000  1000.000000\n",
       "mean      0.492000    13.343123  2431.442841    79.894669\n",
       "std       0.500186    12.669705  1990.370210    33.993498\n",
       "min       0.000000     0.665669   435.651881    35.021974\n",
       "25%       0.000000     0.700784   442.088832    46.384343\n",
       "50%       0.000000    11.536531  2419.554764    77.556892\n",
       "75%       1.000000    26.005802  4421.033030   112.918979\n",
       "max       1.000000    29.125338  4449.956595   129.991582"
      ]
     },
     "execution_count": 432,
     "metadata": {},
     "output_type": "execute_result"
    }
   ],
   "source": [
    "# display statistics of mean, std, min, max\n",
    "data_pd.describe()"
   ]
  },
  {
   "cell_type": "code",
   "execution_count": 433,
   "id": "28a030ee",
   "metadata": {},
   "outputs": [],
   "source": [
    "# set up theme for sns to display plots\n",
    "sns.set_theme(style=\"whitegrid\", palette=\"dark\")"
   ]
  },
  {
   "cell_type": "code",
   "execution_count": 434,
   "id": "d83e2b6d",
   "metadata": {},
   "outputs": [
    {
     "data": {
      "text/plain": [
       "<AxesSubplot:xlabel='Voltage', ylabel='Count'>"
      ]
     },
     "execution_count": 434,
     "metadata": {},
     "output_type": "execute_result"
    },
    {
     "data": {
      "image/png": "[encoded data removed]",
      "text/plain": [
       "<Figure size 432x288 with 1 Axes>"
      ]
     },
     "metadata": {},
     "output_type": "display_data"
    }
   ],
   "source": [
    "# show histogram of Voltage, with different color on Condition\n",
    "# we can see Voltage appear at two ends\n",
    "# Smaller end has majority in Condition 0 while larger end has majority in Condition 1\n",
    "sns.histplot(data=data_pd, x=\"Voltage\", hue=\"Condition\", multiple=\"stack\")"
   ]
  },
  {
   "cell_type": "code",
   "execution_count": 435,
   "id": "82aa443c",
   "metadata": {},
   "outputs": [
    {
     "data": {
      "text/plain": [
       "<AxesSubplot:xlabel='Current', ylabel='Count'>"
      ]
     },
     "execution_count": 435,
     "metadata": {},
     "output_type": "execute_result"
    },
    {
     "data": {
      "image/png": "[encoded data removed]",
      "text/plain": [
       "<Figure size 432x288 with 1 Axes>"
      ]
     },
     "metadata": {},
     "output_type": "display_data"
    }
   ],
   "source": [
    "# show histogram of Current, with different color on Condition\n",
    "# we can see Current appear at two ends\n",
    "# Smaller end has majority in Condition 1 while larger end has majority in Condition 0\n",
    "sns.histplot(data=data_pd, x=\"Current\", hue=\"Condition\", multiple=\"stack\")"
   ]
  },
  {
   "cell_type": "code",
   "execution_count": 436,
   "id": "2a1e1607",
   "metadata": {},
   "outputs": [
    {
     "data": {
      "text/plain": [
       "<AxesSubplot:xlabel='Temperature', ylabel='Count'>"
      ]
     },
     "execution_count": 436,
     "metadata": {},
     "output_type": "execute_result"
    },
    {
     "data": {
      "image/png": "[encoded data removed]",
      "text/plain": [
       "<Figure size 432x288 with 1 Axes>"
      ]
     },
     "metadata": {},
     "output_type": "display_data"
    }
   ],
   "source": [
    "# show histogram of Temperature, with different color on Condition\n",
    "# we can see Temperature appear at two ends\n",
    "# Smaller end has majority in Condition 1 while larger end has majority in Condition 0\n",
    "sns.histplot(data=data_pd, x=\"Temperature\", hue=\"Condition\", multiple=\"stack\")"
   ]
  },
  {
   "cell_type": "code",
   "execution_count": 437,
   "id": "c6e64f7d",
   "metadata": {},
   "outputs": [],
   "source": [
    "# after initial analysis of data, we can continue to treat the data set\n",
    "# split data set into training dataset (80%) and the rest for testing and validation\n",
    "train_data, test_validate_data = data.random_split(.8, seed=0, exact=True)"
   ]
  },
  {
   "cell_type": "code",
   "execution_count": 438,
   "id": "5b2f6284",
   "metadata": {},
   "outputs": [],
   "source": [
    "# split the rest data set into testing and valiation\n",
    "# 10% / 20% = .5\n",
    "test_data, validate_data = test_validate_data.random_split(.5, seed=0, exact=True)"
   ]
  },
  {
   "cell_type": "code",
   "execution_count": 439,
   "id": "9474ed30",
   "metadata": {},
   "outputs": [
    {
     "name": "stdout",
     "output_type": "stream",
     "text": [
      "Length of training set: 800\n",
      "Length of validation set: 100\n",
      "Length of testing set: 100\n"
     ]
    }
   ],
   "source": [
    "# check the length of training set\n",
    "print(\"Length of training set:\", len(train_data))\n",
    "# check the length of validation set\n",
    "print(\"Length of validation set:\", len(validate_data))\n",
    "# check the length of testing set\n",
    "print(\"Length of testing set:\", len(test_data))"
   ]
  },
  {
   "cell_type": "markdown",
   "id": "3e362526",
   "metadata": {},
   "source": [
    "### Problem 4\n",
    "#### c) Is feature rescaling turned on by default for the function turicreate.logistic_classifier.create? What scale are the coefficients given in?\n",
    "\n",
    "According to the Turi Create User Guide, feature rescaling is turned on by default. [feature_rescaling=True]\n",
    "\n",
    "The coefficients are given in original scale of the problem. \n",
    "\n",
    "https://apple.github.io/turicreate/docs/userguide/supervised-learning/linear-regression.html#feature-rescaling"
   ]
  },
  {
   "cell_type": "markdown",
   "id": "ac549c02",
   "metadata": {},
   "source": [
    "### Problem 4\n",
    "#### d) Create perceptrons using Turicreate to classify data with ‘Condition’ as the target. Be sure to use your validation set in the training. Experiment with different values of hyperparameters to develop two different models."
   ]
  },
  {
   "cell_type": "markdown",
   "id": "00941571",
   "metadata": {},
   "source": [
    "### Problem 4\n",
    "#### e) For each model:\n",
    "##### i) find predictions using the testing set;\n",
    "##### ii) display the training/validation/testing accuracy;\n",
    "##### iii) display the confusion matrix on the testing set;\n",
    "##### iv) calculate recall, precision, sensitivity and specificity on the testing set;\n",
    "##### v) calculate the Fβ score on the testing set using the value of β you chose above."
   ]
  },
  {
   "cell_type": "code",
   "execution_count": 440,
   "id": "e6e2ce45",
   "metadata": {},
   "outputs": [],
   "source": [
    "# function to setup the perceptron model with hyperparameters\n",
    "def perceptrons(l2_penalty, l1_penalty, feature_rescaling, convergence_threshold, \n",
    "                max_iterations, class_weights, solver, step_size):\n",
    "    # create the perceptron model with fixed train_data, target, validation_set, verbose and seed\n",
    "    perceptron = tc.logistic_classifier.create(\n",
    "        train_data, target=\"Condition\", \n",
    "        l2_penalty=l2_penalty, \n",
    "        l1_penalty=l1_penalty,\n",
    "        feature_rescaling=feature_rescaling,\n",
    "        convergence_threshold=convergence_threshold,\n",
    "        max_iterations=max_iterations,\n",
    "        class_weights=class_weights, \n",
    "        solver=solver, \n",
    "        step_size=step_size,\n",
    "        validation_set=validate_data, verbose=True, seed=0\n",
    "        )\n",
    "    # return the model\n",
    "    return perceptron    "
   ]
  },
  {
   "cell_type": "code",
   "execution_count": 441,
   "id": "06a954d4",
   "metadata": {},
   "outputs": [],
   "source": [
    "# function to print the hyperparameter settings\n",
    "def model_hyper_settings(model_dict_item):\n",
    "    # set up heading of the table\n",
    "    t = pp([\"l2_penalty\", \"l1_penalty\", \"fea_rescaling\", \"convergce_threshold\", \"max_iterations\", \"class_weights\", \"solver\", \"step_size\"])\n",
    "    # fill in data for the row\n",
    "    t.add_row([model_dict_item[\"l2_penalty\"],\n",
    "              model_dict_item[\"l1_penalty\"], \n",
    "              model_dict_item[\"feature_rescaling\"],\n",
    "              model_dict_item[\"convergence_threshold\"],\n",
    "              model_dict_item[\"max_iterations\"],\n",
    "              model_dict_item[\"class_weights\"],\n",
    "              model_dict_item[\"solver\"], \n",
    "              model_dict_item[\"step_size\"]])\n",
    "    # return the table to be printed\n",
    "    return t    "
   ]
  },
  {
   "cell_type": "code",
   "execution_count": 442,
   "id": "7c31b9a8",
   "metadata": {},
   "outputs": [],
   "source": [
    "# function to display accuracy\n",
    "def display_accuracy(acc_results, results):\n",
    "    # create table header\n",
    "    t = pp([\"Model\", \"training accuracy\", \"validation accuracy\", \"testing accuracy\"])\n",
    "    for i in range(len(results)):\n",
    "        # get accuracy (training) value from accuracy result\n",
    "        accuracy_train = acc_results[i].get('accuracy_train')\n",
    "        # get accuracy (validation) value from accuracyresult\n",
    "        accuracy_validate = acc_results[i].get('accuracy_validate')\n",
    "        # get accuracy value from result\n",
    "        accuracy_test = results[i].get('accuracy')\n",
    "        t.add_row([i, accuracy_train, accuracy_validate, accuracy_test])\n",
    "    # return the table\n",
    "    return print(t)"
   ]
  },
  {
   "cell_type": "code",
   "execution_count": 443,
   "id": "ea21dbb1",
   "metadata": {},
   "outputs": [],
   "source": [
    "# function to group result values\n",
    "def calculate_values_perceptron(ab_results, results):\n",
    "    # define i to use in while statement\n",
    "    i = 0\n",
    "    # define len for use in while statement    \n",
    "    num_perceprtons = len(results)\n",
    "    # create the header for the results table    \n",
    "    t = pp(['Model', 'AUC', 'Recall', 'Precision', 'Sensitivity', 'Specificity', 'Fbeta Score'])\n",
    "    # the while statement runs until i is less than perceptrons    \n",
    "    while (i <num_perceprtons):\n",
    "        # get recall value from result        \n",
    "        recall_prediction = results[i].get('recall')\n",
    "        # get precisiojn value from result        \n",
    "        precision_prediction = results[i].get('precision')\n",
    "        # get auc value from result        \n",
    "        auc = results[i].get('auc')\n",
    "        # calculate TP, TN, FN, FP based on confusion matrix results\n",
    "        # get True Positive from confuction matrix\n",
    "        TP = results[i]['confusion_matrix'][1]\n",
    "        # change the count into int\n",
    "        TP = int(TP['count'])\n",
    "        # get True Negative from confuction matrix\n",
    "        TN = results[i]['confusion_matrix'][2]\n",
    "        # change the count into int\n",
    "        TN = int(TN['count'])\n",
    "        # get False Negative from confuction matrix\n",
    "        FN = results[i]['confusion_matrix'][3]\n",
    "        # change the count into int\n",
    "        FN = int(FN['count'])\n",
    "        # get False Positive from confuction matrix\n",
    "        FP = results[i]['confusion_matrix'][0]\n",
    "        # change the count into int\n",
    "        FP = int(FP ['count'])\n",
    "        # calculate sensitivity        \n",
    "        sensitivity = TP/(TP+FN)\n",
    "        # calculate specificity        \n",
    "        specificity = TN/(TN+FP)\n",
    "        # get Fbeta Score from result\n",
    "        fbeta_score = ab_results[i].get('fbeta_score')\n",
    "        # add 1 value to continue with the loop        \n",
    "        i += 1\n",
    "        # add one line in the results table        \n",
    "        t.add_row([i, auc, recall_prediction, precision_prediction, sensitivity, specificity, fbeta_score])\n",
    "    # return the table    \n",
    "    return print(t)"
   ]
  },
  {
   "cell_type": "code",
   "execution_count": 444,
   "id": "21db2100",
   "metadata": {},
   "outputs": [],
   "source": [
    "# set up dict to store the hyperparameter settings\n",
    "model_dict = {\n",
    "    1: {\n",
    "        \"l2_penalty\" : 0.01, \n",
    "        \"l1_penalty\" : 0,\n",
    "        \"feature_rescaling\" : True, \n",
    "        \"convergence_threshold\" : 0.01, \n",
    "        \"max_iterations\" : 10,\n",
    "        \"class_weights\" : \"auto\", \n",
    "        \"solver\" : \"auto\", \n",
    "        \"step_size\" : 1.0\n",
    "    },\n",
    "    2: {\n",
    "        \"l2_penalty\" : 0.1,\n",
    "        \"l1_penalty\" : 0,\n",
    "        \"feature_rescaling\" : True,\n",
    "        \"convergence_threshold\" : 0.01, \n",
    "        \"max_iterations\" : 10,\n",
    "        \"class_weights\" : \"auto\",\n",
    "        \"solver\" : \"auto\",\n",
    "        \"step_size\" : 1.0\n",
    "    },\n",
    "    3: {\n",
    "        \"l2_penalty\" : 0.01,\n",
    "        \"l1_penalty\" : 0.1,\n",
    "        \"feature_rescaling\" : True,\n",
    "        \"convergence_threshold\" : 0.01, \n",
    "        \"max_iterations\" : 100,\n",
    "        \"class_weights\" : \"auto\",\n",
    "        \"solver\" : \"auto\",\n",
    "        \"step_size\" : 1.0\n",
    "    },\n",
    "    4: {\n",
    "        \"l2_penalty\" : 0.01,\n",
    "        \"l1_penalty\" : 0,\n",
    "        \"feature_rescaling\" : False,\n",
    "        \"convergence_threshold\" : 0.01, \n",
    "        \"max_iterations\" : 10,\n",
    "        \"class_weights\" : \"auto\",\n",
    "        \"solver\" : \"auto\",\n",
    "        \"step_size\" : 1.0\n",
    "    },\n",
    "    5: {\n",
    "        \"l2_penalty\" : 0.01,\n",
    "        \"l1_penalty\" : 0,\n",
    "        \"feature_rescaling\" : True,\n",
    "        \"convergence_threshold\" : 0.1, \n",
    "        \"max_iterations\" : 10,\n",
    "        \"class_weights\" : \"auto\",\n",
    "        \"solver\" : \"auto\",\n",
    "        \"step_size\" : 1.0\n",
    "    },\n",
    "    6: {\n",
    "        \"l2_penalty\" : 0.01,\n",
    "        \"l1_penalty\" : 0,\n",
    "        \"feature_rescaling\" : True,\n",
    "        \"convergence_threshold\" : 0.01, \n",
    "        \"max_iterations\" : 10,\n",
    "        \"class_weights\" : None,\n",
    "        \"solver\" : \"auto\",\n",
    "        \"step_size\" : 1.0\n",
    "    },\n",
    "    7: {\n",
    "        \"l2_penalty\" : 0.01,\n",
    "        \"l1_penalty\" : 0,\n",
    "        \"feature_rescaling\" : True,\n",
    "        \"convergence_threshold\" : 0.01, \n",
    "        \"max_iterations\" : 1000,\n",
    "        \"class_weights\" : \"auto\",\n",
    "        \"solver\" : \"fista\",\n",
    "        \"step_size\" : 0.1\n",
    "    },\n",
    "    8: {\n",
    "        \"l2_penalty\" : 0.01,\n",
    "        \"l1_penalty\" : 0,\n",
    "        \"feature_rescaling\" : True,\n",
    "        \"convergence_threshold\" : 0.01, \n",
    "        \"max_iterations\" : 10,\n",
    "        \"class_weights\" : \"auto\",\n",
    "        \"solver\" : \"fista\",\n",
    "        \"step_size\" : 0.05\n",
    "    }    \n",
    "}"
   ]
  },
  {
   "cell_type": "code",
   "execution_count": 445,
   "id": "c8e3025c",
   "metadata": {},
   "outputs": [],
   "source": [
    "# create a list of results   \n",
    "results = []"
   ]
  },
  {
   "cell_type": "code",
   "execution_count": 448,
   "id": "07bacb38",
   "metadata": {},
   "outputs": [],
   "source": [
    "# create a list of accuracy\n",
    "ab_results = []"
   ]
  },
  {
   "cell_type": "code",
   "execution_count": 449,
   "id": "e70d59b6",
   "metadata": {},
   "outputs": [
    {
     "name": "stdout",
     "output_type": "stream",
     "text": [
      "Perceptron Model 1\n",
      "+------------+------------+---------------+---------------------+----------------+---------------+--------+-----------+\n",
      "| l2_penalty | l1_penalty | fea_rescaling | convergce_threshold | max_iterations | class_weights | solver | step_size |\n",
      "+------------+------------+---------------+---------------------+----------------+---------------+--------+-----------+\n",
      "|    0.01    |     0      |      True     |         0.01        |       10       |      auto     |  auto  |    1.0    |\n",
      "+------------+------------+---------------+---------------------+----------------+---------------+--------+-----------+\n"
     ]
    },
    {
     "data": {
      "text/html": [
       "<pre>Logistic regression:</pre>"
      ],
      "text/plain": [
       "Logistic regression:"
      ]
     },
     "metadata": {},
     "output_type": "display_data"
    },
    {
     "data": {
      "text/html": [
       "<pre>--------------------------------------------------------</pre>"
      ],
      "text/plain": [
       "--------------------------------------------------------"
      ]
     },
     "metadata": {},
     "output_type": "display_data"
    },
    {
     "data": {
      "text/html": [
       "<pre>Number of examples          : 800</pre>"
      ],
      "text/plain": [
       "Number of examples          : 800"
      ]
     },
     "metadata": {},
     "output_type": "display_data"
    },
    {
     "data": {
      "text/html": [
       "<pre>Number of classes           : 2</pre>"
      ],
      "text/plain": [
       "Number of classes           : 2"
      ]
     },
     "metadata": {},
     "output_type": "display_data"
    },
    {
     "data": {
      "text/html": [
       "<pre>Number of feature columns   : 3</pre>"
      ],
      "text/plain": [
       "Number of feature columns   : 3"
      ]
     },
     "metadata": {},
     "output_type": "display_data"
    },
    {
     "data": {
      "text/html": [
       "<pre>Number of unpacked features : 3</pre>"
      ],
      "text/plain": [
       "Number of unpacked features : 3"
      ]
     },
     "metadata": {},
     "output_type": "display_data"
    },
    {
     "data": {
      "text/html": [
       "<pre>Number of coefficients      : 4</pre>"
      ],
      "text/plain": [
       "Number of coefficients      : 4"
      ]
     },
     "metadata": {},
     "output_type": "display_data"
    },
    {
     "data": {
      "text/html": [
       "<pre>Starting Newton Method</pre>"
      ],
      "text/plain": [
       "Starting Newton Method"
      ]
     },
     "metadata": {},
     "output_type": "display_data"
    },
    {
     "data": {
      "text/html": [
       "<pre>--------------------------------------------------------</pre>"
      ],
      "text/plain": [
       "--------------------------------------------------------"
      ]
     },
     "metadata": {},
     "output_type": "display_data"
    },
    {
     "data": {
      "text/html": [
       "<pre>+-----------+----------+--------------+-------------------+---------------------+</pre>"
      ],
      "text/plain": [
       "+-----------+----------+--------------+-------------------+---------------------+"
      ]
     },
     "metadata": {},
     "output_type": "display_data"
    },
    {
     "data": {
      "text/html": [
       "<pre>| Iteration | Passes   | Elapsed Time | Training Accuracy | Validation Accuracy |</pre>"
      ],
      "text/plain": [
       "| Iteration | Passes   | Elapsed Time | Training Accuracy | Validation Accuracy |"
      ]
     },
     "metadata": {},
     "output_type": "display_data"
    },
    {
     "data": {
      "text/html": [
       "<pre>+-----------+----------+--------------+-------------------+---------------------+</pre>"
      ],
      "text/plain": [
       "+-----------+----------+--------------+-------------------+---------------------+"
      ]
     },
     "metadata": {},
     "output_type": "display_data"
    },
    {
     "data": {
      "text/html": [
       "<pre>| 1         | 2        | 0.000997     | 0.906250          | 0.860000            |</pre>"
      ],
      "text/plain": [
       "| 1         | 2        | 0.000997     | 0.906250          | 0.860000            |"
      ]
     },
     "metadata": {},
     "output_type": "display_data"
    },
    {
     "data": {
      "text/html": [
       "<pre>| 2         | 3        | 0.005451     | 0.906250          | 0.860000            |</pre>"
      ],
      "text/plain": [
       "| 2         | 3        | 0.005451     | 0.906250          | 0.860000            |"
      ]
     },
     "metadata": {},
     "output_type": "display_data"
    },
    {
     "data": {
      "text/html": [
       "<pre>| 3         | 4        | 0.011223     | 0.906250          | 0.860000            |</pre>"
      ],
      "text/plain": [
       "| 3         | 4        | 0.011223     | 0.906250          | 0.860000            |"
      ]
     },
     "metadata": {},
     "output_type": "display_data"
    },
    {
     "data": {
      "text/html": [
       "<pre>| 4         | 5        | 0.012743     | 0.906250          | 0.860000            |</pre>"
      ],
      "text/plain": [
       "| 4         | 5        | 0.012743     | 0.906250          | 0.860000            |"
      ]
     },
     "metadata": {},
     "output_type": "display_data"
    },
    {
     "data": {
      "text/html": [
       "<pre>+-----------+----------+--------------+-------------------+---------------------+</pre>"
      ],
      "text/plain": [
       "+-----------+----------+--------------+-------------------+---------------------+"
      ]
     },
     "metadata": {},
     "output_type": "display_data"
    },
    {
     "data": {
      "text/html": [
       "<pre>SUCCESS: Optimal solution found.</pre>"
      ],
      "text/plain": [
       "SUCCESS: Optimal solution found."
      ]
     },
     "metadata": {},
     "output_type": "display_data"
    },
    {
     "data": {
      "text/html": [
       "<pre></pre>"
      ],
      "text/plain": []
     },
     "metadata": {},
     "output_type": "display_data"
    },
    {
     "name": "stdout",
     "output_type": "stream",
     "text": [
      "Prediction (Testing Set):\n",
      " [1, 1, 1, 1, 1, 1, 1, 1, 1, 1, 1, 1, 1, 1, 1, 1, 1, 1, 1, 1, 1, 1, 1, 1, 1, 1, 1, 1, 1, 1, 1, 1, 1, 1, 1, 1, 1, 1, 1, 1, 1, 1, 1, 1, 1, 1, 1, 1, 1, 0, 0, 0, 0, 0, 0, 0, 0, 0, 0, 0, 0, 0, 0, 0, 0, 0, 0, 0, 0, 0, 0, 0, 0, 0, 0, 0, 0, 0, 0, 0, 0, 0, 0, 0, 0, 0, 0, 0, 0, 0, 0, 0, 0, 0, 0, 0, 0, 0, 0, 0] \n",
      "\n",
      "Confusion Matrix (Testing Set):\n",
      " +--------------+-----------------+-------+\n",
      "| target_label | predicted_label | count |\n",
      "+--------------+-----------------+-------+\n",
      "|      1       |        1        |   44  |\n",
      "|      0       |        1        |   5   |\n",
      "|      0       |        0        |   45  |\n",
      "|      1       |        0        |   6   |\n",
      "+--------------+-----------------+-------+\n",
      "[4 rows x 3 columns]\n",
      "\n",
      "Perceptron Model 2\n",
      "+------------+------------+---------------+---------------------+----------------+---------------+--------+-----------+\n",
      "| l2_penalty | l1_penalty | fea_rescaling | convergce_threshold | max_iterations | class_weights | solver | step_size |\n",
      "+------------+------------+---------------+---------------------+----------------+---------------+--------+-----------+\n",
      "|    0.1     |     0      |      True     |         0.01        |       10       |      auto     |  auto  |    1.0    |\n",
      "+------------+------------+---------------+---------------------+----------------+---------------+--------+-----------+\n"
     ]
    },
    {
     "data": {
      "text/html": [
       "<pre>Logistic regression:</pre>"
      ],
      "text/plain": [
       "Logistic regression:"
      ]
     },
     "metadata": {},
     "output_type": "display_data"
    },
    {
     "data": {
      "text/html": [
       "<pre>--------------------------------------------------------</pre>"
      ],
      "text/plain": [
       "--------------------------------------------------------"
      ]
     },
     "metadata": {},
     "output_type": "display_data"
    },
    {
     "data": {
      "text/html": [
       "<pre>Number of examples          : 800</pre>"
      ],
      "text/plain": [
       "Number of examples          : 800"
      ]
     },
     "metadata": {},
     "output_type": "display_data"
    },
    {
     "data": {
      "text/html": [
       "<pre>Number of classes           : 2</pre>"
      ],
      "text/plain": [
       "Number of classes           : 2"
      ]
     },
     "metadata": {},
     "output_type": "display_data"
    },
    {
     "data": {
      "text/html": [
       "<pre>Number of feature columns   : 3</pre>"
      ],
      "text/plain": [
       "Number of feature columns   : 3"
      ]
     },
     "metadata": {},
     "output_type": "display_data"
    },
    {
     "data": {
      "text/html": [
       "<pre>Number of unpacked features : 3</pre>"
      ],
      "text/plain": [
       "Number of unpacked features : 3"
      ]
     },
     "metadata": {},
     "output_type": "display_data"
    },
    {
     "data": {
      "text/html": [
       "<pre>Number of coefficients      : 4</pre>"
      ],
      "text/plain": [
       "Number of coefficients      : 4"
      ]
     },
     "metadata": {},
     "output_type": "display_data"
    },
    {
     "data": {
      "text/html": [
       "<pre>Starting Newton Method</pre>"
      ],
      "text/plain": [
       "Starting Newton Method"
      ]
     },
     "metadata": {},
     "output_type": "display_data"
    },
    {
     "data": {
      "text/html": [
       "<pre>--------------------------------------------------------</pre>"
      ],
      "text/plain": [
       "--------------------------------------------------------"
      ]
     },
     "metadata": {},
     "output_type": "display_data"
    },
    {
     "data": {
      "text/html": [
       "<pre>+-----------+----------+--------------+-------------------+---------------------+</pre>"
      ],
      "text/plain": [
       "+-----------+----------+--------------+-------------------+---------------------+"
      ]
     },
     "metadata": {},
     "output_type": "display_data"
    },
    {
     "data": {
      "text/html": [
       "<pre>| Iteration | Passes   | Elapsed Time | Training Accuracy | Validation Accuracy |</pre>"
      ],
      "text/plain": [
       "| Iteration | Passes   | Elapsed Time | Training Accuracy | Validation Accuracy |"
      ]
     },
     "metadata": {},
     "output_type": "display_data"
    },
    {
     "data": {
      "text/html": [
       "<pre>+-----------+----------+--------------+-------------------+---------------------+</pre>"
      ],
      "text/plain": [
       "+-----------+----------+--------------+-------------------+---------------------+"
      ]
     },
     "metadata": {},
     "output_type": "display_data"
    },
    {
     "data": {
      "text/html": [
       "<pre>| 1         | 2        | 0.000624     | 0.906250          | 0.860000            |</pre>"
      ],
      "text/plain": [
       "| 1         | 2        | 0.000624     | 0.906250          | 0.860000            |"
      ]
     },
     "metadata": {},
     "output_type": "display_data"
    },
    {
     "data": {
      "text/html": [
       "<pre>| 2         | 3        | 0.001768     | 0.906250          | 0.860000            |</pre>"
      ],
      "text/plain": [
       "| 2         | 3        | 0.001768     | 0.906250          | 0.860000            |"
      ]
     },
     "metadata": {},
     "output_type": "display_data"
    },
    {
     "data": {
      "text/html": [
       "<pre>| 3         | 4        | 0.003132     | 0.906250          | 0.860000            |</pre>"
      ],
      "text/plain": [
       "| 3         | 4        | 0.003132     | 0.906250          | 0.860000            |"
      ]
     },
     "metadata": {},
     "output_type": "display_data"
    },
    {
     "data": {
      "text/html": [
       "<pre>| 4         | 5        | 0.004371     | 0.906250          | 0.860000            |</pre>"
      ],
      "text/plain": [
       "| 4         | 5        | 0.004371     | 0.906250          | 0.860000            |"
      ]
     },
     "metadata": {},
     "output_type": "display_data"
    },
    {
     "data": {
      "text/html": [
       "<pre>+-----------+----------+--------------+-------------------+---------------------+</pre>"
      ],
      "text/plain": [
       "+-----------+----------+--------------+-------------------+---------------------+"
      ]
     },
     "metadata": {},
     "output_type": "display_data"
    },
    {
     "data": {
      "text/html": [
       "<pre>SUCCESS: Optimal solution found.</pre>"
      ],
      "text/plain": [
       "SUCCESS: Optimal solution found."
      ]
     },
     "metadata": {},
     "output_type": "display_data"
    },
    {
     "data": {
      "text/html": [
       "<pre></pre>"
      ],
      "text/plain": []
     },
     "metadata": {},
     "output_type": "display_data"
    },
    {
     "name": "stdout",
     "output_type": "stream",
     "text": [
      "Prediction (Testing Set):\n",
      " [1, 1, 1, 1, 1, 1, 1, 1, 1, 1, 1, 1, 1, 1, 1, 1, 1, 1, 1, 1, 1, 1, 1, 1, 1, 1, 1, 1, 1, 1, 1, 1, 1, 1, 1, 1, 1, 1, 1, 1, 1, 1, 1, 1, 1, 1, 1, 1, 1, 0, 0, 0, 0, 0, 0, 0, 0, 0, 0, 0, 0, 0, 0, 0, 0, 0, 0, 0, 0, 0, 0, 0, 0, 0, 0, 0, 0, 0, 0, 0, 0, 0, 0, 0, 0, 0, 0, 0, 0, 0, 0, 0, 0, 0, 0, 0, 0, 0, 0, 0] \n",
      "\n",
      "Confusion Matrix (Testing Set):\n",
      " +--------------+-----------------+-------+\n",
      "| target_label | predicted_label | count |\n",
      "+--------------+-----------------+-------+\n",
      "|      1       |        1        |   44  |\n",
      "|      0       |        1        |   5   |\n",
      "|      0       |        0        |   45  |\n",
      "|      1       |        0        |   6   |\n",
      "+--------------+-----------------+-------+\n",
      "[4 rows x 3 columns]\n",
      "\n",
      "Perceptron Model 3\n",
      "+------------+------------+---------------+---------------------+----------------+---------------+--------+-----------+\n",
      "| l2_penalty | l1_penalty | fea_rescaling | convergce_threshold | max_iterations | class_weights | solver | step_size |\n",
      "+------------+------------+---------------+---------------------+----------------+---------------+--------+-----------+\n",
      "|    0.01    |    0.1     |      True     |         0.01        |      100       |      auto     |  auto  |    1.0    |\n",
      "+------------+------------+---------------+---------------------+----------------+---------------+--------+-----------+\n"
     ]
    },
    {
     "data": {
      "text/html": [
       "<pre>Logistic regression:</pre>"
      ],
      "text/plain": [
       "Logistic regression:"
      ]
     },
     "metadata": {},
     "output_type": "display_data"
    },
    {
     "data": {
      "text/html": [
       "<pre>--------------------------------------------------------</pre>"
      ],
      "text/plain": [
       "--------------------------------------------------------"
      ]
     },
     "metadata": {},
     "output_type": "display_data"
    },
    {
     "data": {
      "text/html": [
       "<pre>Number of examples          : 800</pre>"
      ],
      "text/plain": [
       "Number of examples          : 800"
      ]
     },
     "metadata": {},
     "output_type": "display_data"
    },
    {
     "data": {
      "text/html": [
       "<pre>Number of classes           : 2</pre>"
      ],
      "text/plain": [
       "Number of classes           : 2"
      ]
     },
     "metadata": {},
     "output_type": "display_data"
    },
    {
     "data": {
      "text/html": [
       "<pre>Number of feature columns   : 3</pre>"
      ],
      "text/plain": [
       "Number of feature columns   : 3"
      ]
     },
     "metadata": {},
     "output_type": "display_data"
    },
    {
     "data": {
      "text/html": [
       "<pre>Number of unpacked features : 3</pre>"
      ],
      "text/plain": [
       "Number of unpacked features : 3"
      ]
     },
     "metadata": {},
     "output_type": "display_data"
    },
    {
     "data": {
      "text/html": [
       "<pre>Number of coefficients      : 4</pre>"
      ],
      "text/plain": [
       "Number of coefficients      : 4"
      ]
     },
     "metadata": {},
     "output_type": "display_data"
    },
    {
     "data": {
      "text/html": [
       "<pre>Starting Accelerated Gradient (FISTA)</pre>"
      ],
      "text/plain": [
       "Starting Accelerated Gradient (FISTA)"
      ]
     },
     "metadata": {},
     "output_type": "display_data"
    },
    {
     "data": {
      "text/html": [
       "<pre>--------------------------------------------------------</pre>"
      ],
      "text/plain": [
       "--------------------------------------------------------"
      ]
     },
     "metadata": {},
     "output_type": "display_data"
    },
    {
     "data": {
      "text/html": [
       "<pre>Tuning step size. First iteration could take longer than subsequent iterations.</pre>"
      ],
      "text/plain": [
       "Tuning step size. First iteration could take longer than subsequent iterations."
      ]
     },
     "metadata": {},
     "output_type": "display_data"
    },
    {
     "data": {
      "text/html": [
       "<pre>+-----------+----------+-----------+--------------+-------------------+---------------------+</pre>"
      ],
      "text/plain": [
       "+-----------+----------+-----------+--------------+-------------------+---------------------+"
      ]
     },
     "metadata": {},
     "output_type": "display_data"
    },
    {
     "data": {
      "text/html": [
       "<pre>| Iteration | Passes   | Step size | Elapsed Time | Training Accuracy | Validation Accuracy |</pre>"
      ],
      "text/plain": [
       "| Iteration | Passes   | Step size | Elapsed Time | Training Accuracy | Validation Accuracy |"
      ]
     },
     "metadata": {},
     "output_type": "display_data"
    },
    {
     "data": {
      "text/html": [
       "<pre>+-----------+----------+-----------+--------------+-------------------+---------------------+</pre>"
      ],
      "text/plain": [
       "+-----------+----------+-----------+--------------+-------------------+---------------------+"
      ]
     },
     "metadata": {},
     "output_type": "display_data"
    },
    {
     "data": {
      "text/html": [
       "<pre>| 0         | 1        | 1.000000  | 0.000345     | 0.485000          | 0.540000            |</pre>"
      ],
      "text/plain": [
       "| 0         | 1        | 1.000000  | 0.000345     | 0.485000          | 0.540000            |"
      ]
     },
     "metadata": {},
     "output_type": "display_data"
    },
    {
     "data": {
      "text/html": [
       "<pre>| 1         | 2        | 0.007707  | 0.008571     | 0.906250          | 0.860000            |</pre>"
      ],
      "text/plain": [
       "| 1         | 2        | 0.007707  | 0.008571     | 0.906250          | 0.860000            |"
      ]
     },
     "metadata": {},
     "output_type": "display_data"
    },
    {
     "data": {
      "text/html": [
       "<pre>| 2         | 3        | 0.007707  | 0.009932     | 0.906250          | 0.860000            |</pre>"
      ],
      "text/plain": [
       "| 2         | 3        | 0.007707  | 0.009932     | 0.906250          | 0.860000            |"
      ]
     },
     "metadata": {},
     "output_type": "display_data"
    },
    {
     "data": {
      "text/html": [
       "<pre>| 3         | 4        | 0.007707  | 0.011138     | 0.906250          | 0.860000            |</pre>"
      ],
      "text/plain": [
       "| 3         | 4        | 0.007707  | 0.011138     | 0.906250          | 0.860000            |"
      ]
     },
     "metadata": {},
     "output_type": "display_data"
    },
    {
     "data": {
      "text/html": [
       "<pre>| 4         | 5        | 0.007707  | 0.012987     | 0.906250          | 0.860000            |</pre>"
      ],
      "text/plain": [
       "| 4         | 5        | 0.007707  | 0.012987     | 0.906250          | 0.860000            |"
      ]
     },
     "metadata": {},
     "output_type": "display_data"
    },
    {
     "data": {
      "text/html": [
       "<pre>| 5         | 6        | 0.007707  | 0.014175     | 0.906250          | 0.860000            |</pre>"
      ],
      "text/plain": [
       "| 5         | 6        | 0.007707  | 0.014175     | 0.906250          | 0.860000            |"
      ]
     },
     "metadata": {},
     "output_type": "display_data"
    },
    {
     "data": {
      "text/html": [
       "<pre>| 10        | 11       | 0.007707  | 0.020011     | 0.906250          | 0.860000            |</pre>"
      ],
      "text/plain": [
       "| 10        | 11       | 0.007707  | 0.020011     | 0.906250          | 0.860000            |"
      ]
     },
     "metadata": {},
     "output_type": "display_data"
    },
    {
     "data": {
      "text/html": [
       "<pre>| 50        | 51       | 0.007707  | 0.069441     | 0.906250          | 0.860000            |</pre>"
      ],
      "text/plain": [
       "| 50        | 51       | 0.007707  | 0.069441     | 0.906250          | 0.860000            |"
      ]
     },
     "metadata": {},
     "output_type": "display_data"
    },
    {
     "data": {
      "text/html": [
       "<pre>| 96        | 97       | 0.007707  | 0.127396     | 0.906250          | 0.860000            |</pre>"
      ],
      "text/plain": [
       "| 96        | 97       | 0.007707  | 0.127396     | 0.906250          | 0.860000            |"
      ]
     },
     "metadata": {},
     "output_type": "display_data"
    },
    {
     "data": {
      "text/html": [
       "<pre>+-----------+----------+-----------+--------------+-------------------+---------------------+</pre>"
      ],
      "text/plain": [
       "+-----------+----------+-----------+--------------+-------------------+---------------------+"
      ]
     },
     "metadata": {},
     "output_type": "display_data"
    },
    {
     "data": {
      "text/html": [
       "<pre>SUCCESS: Optimal solution found.</pre>"
      ],
      "text/plain": [
       "SUCCESS: Optimal solution found."
      ]
     },
     "metadata": {},
     "output_type": "display_data"
    },
    {
     "data": {
      "text/html": [
       "<pre></pre>"
      ],
      "text/plain": []
     },
     "metadata": {},
     "output_type": "display_data"
    },
    {
     "name": "stdout",
     "output_type": "stream",
     "text": [
      "Prediction (Testing Set):\n",
      " [1, 1, 1, 1, 1, 1, 1, 1, 1, 1, 1, 1, 1, 1, 1, 1, 1, 1, 1, 1, 1, 1, 1, 1, 1, 1, 1, 1, 1, 1, 1, 1, 1, 1, 1, 1, 1, 1, 1, 1, 1, 1, 1, 1, 1, 1, 1, 1, 1, 0, 0, 0, 0, 0, 0, 0, 0, 0, 0, 0, 0, 0, 0, 0, 0, 0, 0, 0, 0, 0, 0, 0, 0, 0, 0, 0, 0, 0, 0, 0, 0, 0, 0, 0, 0, 0, 0, 0, 0, 0, 0, 0, 0, 0, 0, 0, 0, 0, 0, 0] \n",
      "\n",
      "Confusion Matrix (Testing Set):\n",
      " +--------------+-----------------+-------+\n",
      "| target_label | predicted_label | count |\n",
      "+--------------+-----------------+-------+\n",
      "|      1       |        1        |   44  |\n",
      "|      0       |        1        |   5   |\n",
      "|      0       |        0        |   45  |\n",
      "|      1       |        0        |   6   |\n",
      "+--------------+-----------------+-------+\n",
      "[4 rows x 3 columns]\n",
      "\n",
      "Perceptron Model 4\n",
      "+------------+------------+---------------+---------------------+----------------+---------------+--------+-----------+\n",
      "| l2_penalty | l1_penalty | fea_rescaling | convergce_threshold | max_iterations | class_weights | solver | step_size |\n",
      "+------------+------------+---------------+---------------------+----------------+---------------+--------+-----------+\n",
      "|    0.01    |     0      |     False     |         0.01        |       10       |      auto     |  auto  |    1.0    |\n",
      "+------------+------------+---------------+---------------------+----------------+---------------+--------+-----------+\n"
     ]
    },
    {
     "data": {
      "text/html": [
       "<pre>Logistic regression:</pre>"
      ],
      "text/plain": [
       "Logistic regression:"
      ]
     },
     "metadata": {},
     "output_type": "display_data"
    },
    {
     "data": {
      "text/html": [
       "<pre>--------------------------------------------------------</pre>"
      ],
      "text/plain": [
       "--------------------------------------------------------"
      ]
     },
     "metadata": {},
     "output_type": "display_data"
    },
    {
     "data": {
      "text/html": [
       "<pre>Number of examples          : 800</pre>"
      ],
      "text/plain": [
       "Number of examples          : 800"
      ]
     },
     "metadata": {},
     "output_type": "display_data"
    },
    {
     "data": {
      "text/html": [
       "<pre>Number of classes           : 2</pre>"
      ],
      "text/plain": [
       "Number of classes           : 2"
      ]
     },
     "metadata": {},
     "output_type": "display_data"
    },
    {
     "data": {
      "text/html": [
       "<pre>Number of feature columns   : 3</pre>"
      ],
      "text/plain": [
       "Number of feature columns   : 3"
      ]
     },
     "metadata": {},
     "output_type": "display_data"
    },
    {
     "data": {
      "text/html": [
       "<pre>Number of unpacked features : 3</pre>"
      ],
      "text/plain": [
       "Number of unpacked features : 3"
      ]
     },
     "metadata": {},
     "output_type": "display_data"
    },
    {
     "data": {
      "text/html": [
       "<pre>Number of coefficients      : 4</pre>"
      ],
      "text/plain": [
       "Number of coefficients      : 4"
      ]
     },
     "metadata": {},
     "output_type": "display_data"
    },
    {
     "data": {
      "text/html": [
       "<pre>Starting Newton Method</pre>"
      ],
      "text/plain": [
       "Starting Newton Method"
      ]
     },
     "metadata": {},
     "output_type": "display_data"
    },
    {
     "data": {
      "text/html": [
       "<pre>--------------------------------------------------------</pre>"
      ],
      "text/plain": [
       "--------------------------------------------------------"
      ]
     },
     "metadata": {},
     "output_type": "display_data"
    },
    {
     "data": {
      "text/html": [
       "<pre>+-----------+----------+--------------+-------------------+---------------------+</pre>"
      ],
      "text/plain": [
       "+-----------+----------+--------------+-------------------+---------------------+"
      ]
     },
     "metadata": {},
     "output_type": "display_data"
    },
    {
     "data": {
      "text/html": [
       "<pre>| Iteration | Passes   | Elapsed Time | Training Accuracy | Validation Accuracy |</pre>"
      ],
      "text/plain": [
       "| Iteration | Passes   | Elapsed Time | Training Accuracy | Validation Accuracy |"
      ]
     },
     "metadata": {},
     "output_type": "display_data"
    },
    {
     "data": {
      "text/html": [
       "<pre>+-----------+----------+--------------+-------------------+---------------------+</pre>"
      ],
      "text/plain": [
       "+-----------+----------+--------------+-------------------+---------------------+"
      ]
     },
     "metadata": {},
     "output_type": "display_data"
    },
    {
     "data": {
      "text/html": [
       "<pre>| 1         | 2        | 0.000626     | 0.906250          | 0.860000            |</pre>"
      ],
      "text/plain": [
       "| 1         | 2        | 0.000626     | 0.906250          | 0.860000            |"
      ]
     },
     "metadata": {},
     "output_type": "display_data"
    },
    {
     "data": {
      "text/html": [
       "<pre>| 2         | 3        | 0.001768     | 0.906250          | 0.860000            |</pre>"
      ],
      "text/plain": [
       "| 2         | 3        | 0.001768     | 0.906250          | 0.860000            |"
      ]
     },
     "metadata": {},
     "output_type": "display_data"
    },
    {
     "data": {
      "text/html": [
       "<pre>| 3         | 4        | 0.003051     | 0.906250          | 0.860000            |</pre>"
      ],
      "text/plain": [
       "| 3         | 4        | 0.003051     | 0.906250          | 0.860000            |"
      ]
     },
     "metadata": {},
     "output_type": "display_data"
    },
    {
     "data": {
      "text/html": [
       "<pre>| 4         | 5        | 0.003912     | 0.906250          | 0.860000            |</pre>"
      ],
      "text/plain": [
       "| 4         | 5        | 0.003912     | 0.906250          | 0.860000            |"
      ]
     },
     "metadata": {},
     "output_type": "display_data"
    },
    {
     "data": {
      "text/html": [
       "<pre>| 5         | 6        | 0.004794     | 0.906250          | 0.860000            |</pre>"
      ],
      "text/plain": [
       "| 5         | 6        | 0.004794     | 0.906250          | 0.860000            |"
      ]
     },
     "metadata": {},
     "output_type": "display_data"
    },
    {
     "data": {
      "text/html": [
       "<pre>+-----------+----------+--------------+-------------------+---------------------+</pre>"
      ],
      "text/plain": [
       "+-----------+----------+--------------+-------------------+---------------------+"
      ]
     },
     "metadata": {},
     "output_type": "display_data"
    },
    {
     "data": {
      "text/html": [
       "<pre>SUCCESS: Optimal solution found.</pre>"
      ],
      "text/plain": [
       "SUCCESS: Optimal solution found."
      ]
     },
     "metadata": {},
     "output_type": "display_data"
    },
    {
     "data": {
      "text/html": [
       "<pre></pre>"
      ],
      "text/plain": []
     },
     "metadata": {},
     "output_type": "display_data"
    },
    {
     "name": "stdout",
     "output_type": "stream",
     "text": [
      "Prediction (Testing Set):\n",
      " [1, 1, 1, 1, 1, 1, 1, 1, 1, 1, 1, 1, 1, 1, 1, 1, 1, 1, 1, 1, 1, 1, 1, 1, 1, 1, 1, 1, 1, 1, 1, 1, 1, 1, 1, 1, 1, 1, 1, 1, 1, 1, 1, 1, 1, 1, 1, 1, 1, 0, 0, 0, 0, 0, 0, 0, 0, 0, 0, 0, 0, 0, 0, 0, 0, 0, 0, 0, 0, 0, 0, 0, 0, 0, 0, 0, 0, 0, 0, 0, 0, 0, 0, 0, 0, 0, 0, 0, 0, 0, 0, 0, 0, 0, 0, 0, 0, 0, 0, 0] \n",
      "\n",
      "Confusion Matrix (Testing Set):\n",
      " +--------------+-----------------+-------+\n",
      "| target_label | predicted_label | count |\n",
      "+--------------+-----------------+-------+\n",
      "|      1       |        1        |   44  |\n",
      "|      0       |        1        |   5   |\n",
      "|      0       |        0        |   45  |\n",
      "|      1       |        0        |   6   |\n",
      "+--------------+-----------------+-------+\n",
      "[4 rows x 3 columns]\n",
      "\n",
      "Perceptron Model 5\n",
      "+------------+------------+---------------+---------------------+----------------+---------------+--------+-----------+\n",
      "| l2_penalty | l1_penalty | fea_rescaling | convergce_threshold | max_iterations | class_weights | solver | step_size |\n",
      "+------------+------------+---------------+---------------------+----------------+---------------+--------+-----------+\n",
      "|    0.01    |     0      |      True     |         0.1         |       10       |      auto     |  auto  |    1.0    |\n",
      "+------------+------------+---------------+---------------------+----------------+---------------+--------+-----------+\n"
     ]
    },
    {
     "data": {
      "text/html": [
       "<pre>Logistic regression:</pre>"
      ],
      "text/plain": [
       "Logistic regression:"
      ]
     },
     "metadata": {},
     "output_type": "display_data"
    },
    {
     "data": {
      "text/html": [
       "<pre>--------------------------------------------------------</pre>"
      ],
      "text/plain": [
       "--------------------------------------------------------"
      ]
     },
     "metadata": {},
     "output_type": "display_data"
    },
    {
     "data": {
      "text/html": [
       "<pre>Number of examples          : 800</pre>"
      ],
      "text/plain": [
       "Number of examples          : 800"
      ]
     },
     "metadata": {},
     "output_type": "display_data"
    },
    {
     "data": {
      "text/html": [
       "<pre>Number of classes           : 2</pre>"
      ],
      "text/plain": [
       "Number of classes           : 2"
      ]
     },
     "metadata": {},
     "output_type": "display_data"
    },
    {
     "data": {
      "text/html": [
       "<pre>Number of feature columns   : 3</pre>"
      ],
      "text/plain": [
       "Number of feature columns   : 3"
      ]
     },
     "metadata": {},
     "output_type": "display_data"
    },
    {
     "data": {
      "text/html": [
       "<pre>Number of unpacked features : 3</pre>"
      ],
      "text/plain": [
       "Number of unpacked features : 3"
      ]
     },
     "metadata": {},
     "output_type": "display_data"
    },
    {
     "data": {
      "text/html": [
       "<pre>Number of coefficients      : 4</pre>"
      ],
      "text/plain": [
       "Number of coefficients      : 4"
      ]
     },
     "metadata": {},
     "output_type": "display_data"
    },
    {
     "data": {
      "text/html": [
       "<pre>Starting Newton Method</pre>"
      ],
      "text/plain": [
       "Starting Newton Method"
      ]
     },
     "metadata": {},
     "output_type": "display_data"
    },
    {
     "data": {
      "text/html": [
       "<pre>--------------------------------------------------------</pre>"
      ],
      "text/plain": [
       "--------------------------------------------------------"
      ]
     },
     "metadata": {},
     "output_type": "display_data"
    },
    {
     "data": {
      "text/html": [
       "<pre>+-----------+----------+--------------+-------------------+---------------------+</pre>"
      ],
      "text/plain": [
       "+-----------+----------+--------------+-------------------+---------------------+"
      ]
     },
     "metadata": {},
     "output_type": "display_data"
    },
    {
     "data": {
      "text/html": [
       "<pre>| Iteration | Passes   | Elapsed Time | Training Accuracy | Validation Accuracy |</pre>"
      ],
      "text/plain": [
       "| Iteration | Passes   | Elapsed Time | Training Accuracy | Validation Accuracy |"
      ]
     },
     "metadata": {},
     "output_type": "display_data"
    },
    {
     "data": {
      "text/html": [
       "<pre>+-----------+----------+--------------+-------------------+---------------------+</pre>"
      ],
      "text/plain": [
       "+-----------+----------+--------------+-------------------+---------------------+"
      ]
     },
     "metadata": {},
     "output_type": "display_data"
    },
    {
     "data": {
      "text/html": [
       "<pre>| 1         | 2        | 0.000547     | 0.906250          | 0.860000            |</pre>"
      ],
      "text/plain": [
       "| 1         | 2        | 0.000547     | 0.906250          | 0.860000            |"
      ]
     },
     "metadata": {},
     "output_type": "display_data"
    },
    {
     "data": {
      "text/html": [
       "<pre>| 2         | 3        | 0.001405     | 0.906250          | 0.860000            |</pre>"
      ],
      "text/plain": [
       "| 2         | 3        | 0.001405     | 0.906250          | 0.860000            |"
      ]
     },
     "metadata": {},
     "output_type": "display_data"
    },
    {
     "data": {
      "text/html": [
       "<pre>| 3         | 4        | 0.002472     | 0.906250          | 0.860000            |</pre>"
      ],
      "text/plain": [
       "| 3         | 4        | 0.002472     | 0.906250          | 0.860000            |"
      ]
     },
     "metadata": {},
     "output_type": "display_data"
    },
    {
     "data": {
      "text/html": [
       "<pre>| 4         | 5        | 0.003347     | 0.906250          | 0.860000            |</pre>"
      ],
      "text/plain": [
       "| 4         | 5        | 0.003347     | 0.906250          | 0.860000            |"
      ]
     },
     "metadata": {},
     "output_type": "display_data"
    },
    {
     "data": {
      "text/html": [
       "<pre>+-----------+----------+--------------+-------------------+---------------------+</pre>"
      ],
      "text/plain": [
       "+-----------+----------+--------------+-------------------+---------------------+"
      ]
     },
     "metadata": {},
     "output_type": "display_data"
    },
    {
     "data": {
      "text/html": [
       "<pre>SUCCESS: Optimal solution found.</pre>"
      ],
      "text/plain": [
       "SUCCESS: Optimal solution found."
      ]
     },
     "metadata": {},
     "output_type": "display_data"
    },
    {
     "data": {
      "text/html": [
       "<pre></pre>"
      ],
      "text/plain": []
     },
     "metadata": {},
     "output_type": "display_data"
    },
    {
     "name": "stdout",
     "output_type": "stream",
     "text": [
      "Prediction (Testing Set):\n",
      " [1, 1, 1, 1, 1, 1, 1, 1, 1, 1, 1, 1, 1, 1, 1, 1, 1, 1, 1, 1, 1, 1, 1, 1, 1, 1, 1, 1, 1, 1, 1, 1, 1, 1, 1, 1, 1, 1, 1, 1, 1, 1, 1, 1, 1, 1, 1, 1, 1, 0, 0, 0, 0, 0, 0, 0, 0, 0, 0, 0, 0, 0, 0, 0, 0, 0, 0, 0, 0, 0, 0, 0, 0, 0, 0, 0, 0, 0, 0, 0, 0, 0, 0, 0, 0, 0, 0, 0, 0, 0, 0, 0, 0, 0, 0, 0, 0, 0, 0, 0] \n",
      "\n",
      "Confusion Matrix (Testing Set):\n",
      " +--------------+-----------------+-------+\n",
      "| target_label | predicted_label | count |\n",
      "+--------------+-----------------+-------+\n",
      "|      1       |        1        |   44  |\n",
      "|      0       |        1        |   5   |\n",
      "|      0       |        0        |   45  |\n",
      "|      1       |        0        |   6   |\n",
      "+--------------+-----------------+-------+\n",
      "[4 rows x 3 columns]\n",
      "\n",
      "Perceptron Model 6\n",
      "+------------+------------+---------------+---------------------+----------------+---------------+--------+-----------+\n",
      "| l2_penalty | l1_penalty | fea_rescaling | convergce_threshold | max_iterations | class_weights | solver | step_size |\n",
      "+------------+------------+---------------+---------------------+----------------+---------------+--------+-----------+\n",
      "|    0.01    |     0      |      True     |         0.01        |       10       |      None     |  auto  |    1.0    |\n",
      "+------------+------------+---------------+---------------------+----------------+---------------+--------+-----------+\n"
     ]
    },
    {
     "data": {
      "text/html": [
       "<pre>Logistic regression:</pre>"
      ],
      "text/plain": [
       "Logistic regression:"
      ]
     },
     "metadata": {},
     "output_type": "display_data"
    },
    {
     "data": {
      "text/html": [
       "<pre>--------------------------------------------------------</pre>"
      ],
      "text/plain": [
       "--------------------------------------------------------"
      ]
     },
     "metadata": {},
     "output_type": "display_data"
    },
    {
     "data": {
      "text/html": [
       "<pre>Number of examples          : 800</pre>"
      ],
      "text/plain": [
       "Number of examples          : 800"
      ]
     },
     "metadata": {},
     "output_type": "display_data"
    },
    {
     "data": {
      "text/html": [
       "<pre>Number of classes           : 2</pre>"
      ],
      "text/plain": [
       "Number of classes           : 2"
      ]
     },
     "metadata": {},
     "output_type": "display_data"
    },
    {
     "data": {
      "text/html": [
       "<pre>Number of feature columns   : 3</pre>"
      ],
      "text/plain": [
       "Number of feature columns   : 3"
      ]
     },
     "metadata": {},
     "output_type": "display_data"
    },
    {
     "data": {
      "text/html": [
       "<pre>Number of unpacked features : 3</pre>"
      ],
      "text/plain": [
       "Number of unpacked features : 3"
      ]
     },
     "metadata": {},
     "output_type": "display_data"
    },
    {
     "data": {
      "text/html": [
       "<pre>Number of coefficients      : 4</pre>"
      ],
      "text/plain": [
       "Number of coefficients      : 4"
      ]
     },
     "metadata": {},
     "output_type": "display_data"
    },
    {
     "data": {
      "text/html": [
       "<pre>Starting Newton Method</pre>"
      ],
      "text/plain": [
       "Starting Newton Method"
      ]
     },
     "metadata": {},
     "output_type": "display_data"
    },
    {
     "data": {
      "text/html": [
       "<pre>--------------------------------------------------------</pre>"
      ],
      "text/plain": [
       "--------------------------------------------------------"
      ]
     },
     "metadata": {},
     "output_type": "display_data"
    },
    {
     "data": {
      "text/html": [
       "<pre>+-----------+----------+--------------+-------------------+---------------------+</pre>"
      ],
      "text/plain": [
       "+-----------+----------+--------------+-------------------+---------------------+"
      ]
     },
     "metadata": {},
     "output_type": "display_data"
    },
    {
     "data": {
      "text/html": [
       "<pre>| Iteration | Passes   | Elapsed Time | Training Accuracy | Validation Accuracy |</pre>"
      ],
      "text/plain": [
       "| Iteration | Passes   | Elapsed Time | Training Accuracy | Validation Accuracy |"
      ]
     },
     "metadata": {},
     "output_type": "display_data"
    },
    {
     "data": {
      "text/html": [
       "<pre>+-----------+----------+--------------+-------------------+---------------------+</pre>"
      ],
      "text/plain": [
       "+-----------+----------+--------------+-------------------+---------------------+"
      ]
     },
     "metadata": {},
     "output_type": "display_data"
    },
    {
     "data": {
      "text/html": [
       "<pre>| 1         | 2        | 0.000758     | 0.906250          | 0.860000            |</pre>"
      ],
      "text/plain": [
       "| 1         | 2        | 0.000758     | 0.906250          | 0.860000            |"
      ]
     },
     "metadata": {},
     "output_type": "display_data"
    },
    {
     "data": {
      "text/html": [
       "<pre>| 2         | 3        | 0.001756     | 0.906250          | 0.860000            |</pre>"
      ],
      "text/plain": [
       "| 2         | 3        | 0.001756     | 0.906250          | 0.860000            |"
      ]
     },
     "metadata": {},
     "output_type": "display_data"
    },
    {
     "data": {
      "text/html": [
       "<pre>| 3         | 4        | 0.002603     | 0.906250          | 0.860000            |</pre>"
      ],
      "text/plain": [
       "| 3         | 4        | 0.002603     | 0.906250          | 0.860000            |"
      ]
     },
     "metadata": {},
     "output_type": "display_data"
    },
    {
     "data": {
      "text/html": [
       "<pre>| 4         | 5        | 0.003569     | 0.906250          | 0.860000            |</pre>"
      ],
      "text/plain": [
       "| 4         | 5        | 0.003569     | 0.906250          | 0.860000            |"
      ]
     },
     "metadata": {},
     "output_type": "display_data"
    },
    {
     "data": {
      "text/html": [
       "<pre>+-----------+----------+--------------+-------------------+---------------------+</pre>"
      ],
      "text/plain": [
       "+-----------+----------+--------------+-------------------+---------------------+"
      ]
     },
     "metadata": {},
     "output_type": "display_data"
    },
    {
     "data": {
      "text/html": [
       "<pre>SUCCESS: Optimal solution found.</pre>"
      ],
      "text/plain": [
       "SUCCESS: Optimal solution found."
      ]
     },
     "metadata": {},
     "output_type": "display_data"
    },
    {
     "data": {
      "text/html": [
       "<pre></pre>"
      ],
      "text/plain": []
     },
     "metadata": {},
     "output_type": "display_data"
    },
    {
     "name": "stdout",
     "output_type": "stream",
     "text": [
      "Prediction (Testing Set):\n",
      " [1, 1, 1, 1, 1, 1, 1, 1, 1, 1, 1, 1, 1, 1, 1, 1, 1, 1, 1, 1, 1, 1, 1, 1, 1, 1, 1, 1, 1, 1, 1, 1, 1, 1, 1, 1, 1, 1, 1, 1, 1, 1, 1, 1, 1, 1, 1, 1, 1, 0, 0, 0, 0, 0, 0, 0, 0, 0, 0, 0, 0, 0, 0, 0, 0, 0, 0, 0, 0, 0, 0, 0, 0, 0, 0, 0, 0, 0, 0, 0, 0, 0, 0, 0, 0, 0, 0, 0, 0, 0, 0, 0, 0, 0, 0, 0, 0, 0, 0, 0] \n",
      "\n",
      "Confusion Matrix (Testing Set):\n",
      " +--------------+-----------------+-------+\n",
      "| target_label | predicted_label | count |\n",
      "+--------------+-----------------+-------+\n",
      "|      1       |        1        |   44  |\n",
      "|      0       |        1        |   5   |\n",
      "|      0       |        0        |   45  |\n",
      "|      1       |        0        |   6   |\n",
      "+--------------+-----------------+-------+\n",
      "[4 rows x 3 columns]\n",
      "\n",
      "Perceptron Model 7\n",
      "+------------+------------+---------------+---------------------+----------------+---------------+--------+-----------+\n",
      "| l2_penalty | l1_penalty | fea_rescaling | convergce_threshold | max_iterations | class_weights | solver | step_size |\n",
      "+------------+------------+---------------+---------------------+----------------+---------------+--------+-----------+\n",
      "|    0.01    |     0      |      True     |         0.01        |      1000      |      auto     | fista  |    0.1    |\n",
      "+------------+------------+---------------+---------------------+----------------+---------------+--------+-----------+\n"
     ]
    },
    {
     "data": {
      "text/html": [
       "<pre>Logistic regression:</pre>"
      ],
      "text/plain": [
       "Logistic regression:"
      ]
     },
     "metadata": {},
     "output_type": "display_data"
    },
    {
     "data": {
      "text/html": [
       "<pre>--------------------------------------------------------</pre>"
      ],
      "text/plain": [
       "--------------------------------------------------------"
      ]
     },
     "metadata": {},
     "output_type": "display_data"
    },
    {
     "data": {
      "text/html": [
       "<pre>Number of examples          : 800</pre>"
      ],
      "text/plain": [
       "Number of examples          : 800"
      ]
     },
     "metadata": {},
     "output_type": "display_data"
    },
    {
     "data": {
      "text/html": [
       "<pre>Number of classes           : 2</pre>"
      ],
      "text/plain": [
       "Number of classes           : 2"
      ]
     },
     "metadata": {},
     "output_type": "display_data"
    },
    {
     "data": {
      "text/html": [
       "<pre>Number of feature columns   : 3</pre>"
      ],
      "text/plain": [
       "Number of feature columns   : 3"
      ]
     },
     "metadata": {},
     "output_type": "display_data"
    },
    {
     "data": {
      "text/html": [
       "<pre>Number of unpacked features : 3</pre>"
      ],
      "text/plain": [
       "Number of unpacked features : 3"
      ]
     },
     "metadata": {},
     "output_type": "display_data"
    },
    {
     "data": {
      "text/html": [
       "<pre>Number of coefficients      : 4</pre>"
      ],
      "text/plain": [
       "Number of coefficients      : 4"
      ]
     },
     "metadata": {},
     "output_type": "display_data"
    },
    {
     "data": {
      "text/html": [
       "<pre>Starting Accelerated Gradient (FISTA)</pre>"
      ],
      "text/plain": [
       "Starting Accelerated Gradient (FISTA)"
      ]
     },
     "metadata": {},
     "output_type": "display_data"
    },
    {
     "data": {
      "text/html": [
       "<pre>--------------------------------------------------------</pre>"
      ],
      "text/plain": [
       "--------------------------------------------------------"
      ]
     },
     "metadata": {},
     "output_type": "display_data"
    },
    {
     "data": {
      "text/html": [
       "<pre>Tuning step size. First iteration could take longer than subsequent iterations.</pre>"
      ],
      "text/plain": [
       "Tuning step size. First iteration could take longer than subsequent iterations."
      ]
     },
     "metadata": {},
     "output_type": "display_data"
    },
    {
     "data": {
      "text/html": [
       "<pre>+-----------+----------+-----------+--------------+-------------------+---------------------+</pre>"
      ],
      "text/plain": [
       "+-----------+----------+-----------+--------------+-------------------+---------------------+"
      ]
     },
     "metadata": {},
     "output_type": "display_data"
    },
    {
     "data": {
      "text/html": [
       "<pre>| Iteration | Passes   | Step size | Elapsed Time | Training Accuracy | Validation Accuracy |</pre>"
      ],
      "text/plain": [
       "| Iteration | Passes   | Step size | Elapsed Time | Training Accuracy | Validation Accuracy |"
      ]
     },
     "metadata": {},
     "output_type": "display_data"
    },
    {
     "data": {
      "text/html": [
       "<pre>+-----------+----------+-----------+--------------+-------------------+---------------------+</pre>"
      ],
      "text/plain": [
       "+-----------+----------+-----------+--------------+-------------------+---------------------+"
      ]
     },
     "metadata": {},
     "output_type": "display_data"
    },
    {
     "data": {
      "text/html": [
       "<pre>| 0         | 1        | 0.100000  | 0.000358     | 0.485000          | 0.540000            |</pre>"
      ],
      "text/plain": [
       "| 0         | 1        | 0.100000  | 0.000358     | 0.485000          | 0.540000            |"
      ]
     },
     "metadata": {},
     "output_type": "display_data"
    },
    {
     "data": {
      "text/html": [
       "<pre>| 1         | 2        | 0.008779  | 0.003469     | 0.906250          | 0.860000            |</pre>"
      ],
      "text/plain": [
       "| 1         | 2        | 0.008779  | 0.003469     | 0.906250          | 0.860000            |"
      ]
     },
     "metadata": {},
     "output_type": "display_data"
    },
    {
     "data": {
      "text/html": [
       "<pre>| 2         | 3        | 0.005853  | 0.005062     | 0.906250          | 0.860000            |</pre>"
      ],
      "text/plain": [
       "| 2         | 3        | 0.005853  | 0.005062     | 0.906250          | 0.860000            |"
      ]
     },
     "metadata": {},
     "output_type": "display_data"
    },
    {
     "data": {
      "text/html": [
       "<pre>| 3         | 4        | 0.005853  | 0.006720     | 0.906250          | 0.860000            |</pre>"
      ],
      "text/plain": [
       "| 3         | 4        | 0.005853  | 0.006720     | 0.906250          | 0.860000            |"
      ]
     },
     "metadata": {},
     "output_type": "display_data"
    },
    {
     "data": {
      "text/html": [
       "<pre>| 4         | 5        | 0.005853  | 0.008031     | 0.906250          | 0.860000            |</pre>"
      ],
      "text/plain": [
       "| 4         | 5        | 0.005853  | 0.008031     | 0.906250          | 0.860000            |"
      ]
     },
     "metadata": {},
     "output_type": "display_data"
    },
    {
     "data": {
      "text/html": [
       "<pre>| 5         | 6        | 0.005853  | 0.009216     | 0.906250          | 0.860000            |</pre>"
      ],
      "text/plain": [
       "| 5         | 6        | 0.005853  | 0.009216     | 0.906250          | 0.860000            |"
      ]
     },
     "metadata": {},
     "output_type": "display_data"
    },
    {
     "data": {
      "text/html": [
       "<pre>| 10        | 11       | 0.005853  | 0.016059     | 0.906250          | 0.860000            |</pre>"
      ],
      "text/plain": [
       "| 10        | 11       | 0.005853  | 0.016059     | 0.906250          | 0.860000            |"
      ]
     },
     "metadata": {},
     "output_type": "display_data"
    },
    {
     "data": {
      "text/html": [
       "<pre>| 50        | 51       | 0.005853  | 0.065663     | 0.906250          | 0.860000            |</pre>"
      ],
      "text/plain": [
       "| 50        | 51       | 0.005853  | 0.065663     | 0.906250          | 0.860000            |"
      ]
     },
     "metadata": {},
     "output_type": "display_data"
    },
    {
     "data": {
      "text/html": [
       "<pre>| 100       | 101      | 0.005853  | 0.125716     | 0.906250          | 0.860000            |</pre>"
      ],
      "text/plain": [
       "| 100       | 101      | 0.005853  | 0.125716     | 0.906250          | 0.860000            |"
      ]
     },
     "metadata": {},
     "output_type": "display_data"
    },
    {
     "data": {
      "text/html": [
       "<pre>| 118       | 119      | 0.005853  | 0.147837     | 0.906250          | 0.860000            |</pre>"
      ],
      "text/plain": [
       "| 118       | 119      | 0.005853  | 0.147837     | 0.906250          | 0.860000            |"
      ]
     },
     "metadata": {},
     "output_type": "display_data"
    },
    {
     "data": {
      "text/html": [
       "<pre>+-----------+----------+-----------+--------------+-------------------+---------------------+</pre>"
      ],
      "text/plain": [
       "+-----------+----------+-----------+--------------+-------------------+---------------------+"
      ]
     },
     "metadata": {},
     "output_type": "display_data"
    },
    {
     "data": {
      "text/html": [
       "<pre>SUCCESS: Optimal solution found.</pre>"
      ],
      "text/plain": [
       "SUCCESS: Optimal solution found."
      ]
     },
     "metadata": {},
     "output_type": "display_data"
    },
    {
     "data": {
      "text/html": [
       "<pre></pre>"
      ],
      "text/plain": []
     },
     "metadata": {},
     "output_type": "display_data"
    },
    {
     "name": "stdout",
     "output_type": "stream",
     "text": [
      "Prediction (Testing Set):\n",
      " [1, 1, 1, 1, 1, 1, 1, 1, 1, 1, 1, 1, 1, 1, 1, 1, 1, 1, 1, 1, 1, 1, 1, 1, 1, 1, 1, 1, 1, 1, 1, 1, 1, 1, 1, 1, 1, 1, 1, 1, 1, 1, 1, 1, 1, 1, 1, 1, 1, 0, 0, 0, 0, 0, 0, 0, 0, 0, 0, 0, 0, 0, 0, 0, 0, 0, 0, 0, 0, 0, 0, 0, 0, 0, 0, 0, 0, 0, 0, 0, 0, 0, 0, 0, 0, 0, 0, 0, 0, 0, 0, 0, 0, 0, 0, 0, 0, 0, 0, 0] \n",
      "\n",
      "Confusion Matrix (Testing Set):\n",
      " +--------------+-----------------+-------+\n",
      "| target_label | predicted_label | count |\n",
      "+--------------+-----------------+-------+\n",
      "|      1       |        1        |   44  |\n",
      "|      0       |        1        |   5   |\n",
      "|      0       |        0        |   45  |\n",
      "|      1       |        0        |   6   |\n",
      "+--------------+-----------------+-------+\n",
      "[4 rows x 3 columns]\n",
      "\n",
      "Perceptron Model 8\n",
      "+------------+------------+---------------+---------------------+----------------+---------------+--------+-----------+\n",
      "| l2_penalty | l1_penalty | fea_rescaling | convergce_threshold | max_iterations | class_weights | solver | step_size |\n",
      "+------------+------------+---------------+---------------------+----------------+---------------+--------+-----------+\n",
      "|    0.01    |     0      |      True     |         0.01        |       10       |      auto     | fista  |    0.05   |\n",
      "+------------+------------+---------------+---------------------+----------------+---------------+--------+-----------+\n"
     ]
    },
    {
     "data": {
      "text/html": [
       "<pre>Logistic regression:</pre>"
      ],
      "text/plain": [
       "Logistic regression:"
      ]
     },
     "metadata": {},
     "output_type": "display_data"
    },
    {
     "data": {
      "text/html": [
       "<pre>--------------------------------------------------------</pre>"
      ],
      "text/plain": [
       "--------------------------------------------------------"
      ]
     },
     "metadata": {},
     "output_type": "display_data"
    },
    {
     "data": {
      "text/html": [
       "<pre>Number of examples          : 800</pre>"
      ],
      "text/plain": [
       "Number of examples          : 800"
      ]
     },
     "metadata": {},
     "output_type": "display_data"
    },
    {
     "data": {
      "text/html": [
       "<pre>Number of classes           : 2</pre>"
      ],
      "text/plain": [
       "Number of classes           : 2"
      ]
     },
     "metadata": {},
     "output_type": "display_data"
    },
    {
     "data": {
      "text/html": [
       "<pre>Number of feature columns   : 3</pre>"
      ],
      "text/plain": [
       "Number of feature columns   : 3"
      ]
     },
     "metadata": {},
     "output_type": "display_data"
    },
    {
     "data": {
      "text/html": [
       "<pre>Number of unpacked features : 3</pre>"
      ],
      "text/plain": [
       "Number of unpacked features : 3"
      ]
     },
     "metadata": {},
     "output_type": "display_data"
    },
    {
     "data": {
      "text/html": [
       "<pre>Number of coefficients      : 4</pre>"
      ],
      "text/plain": [
       "Number of coefficients      : 4"
      ]
     },
     "metadata": {},
     "output_type": "display_data"
    },
    {
     "data": {
      "text/html": [
       "<pre>Starting Accelerated Gradient (FISTA)</pre>"
      ],
      "text/plain": [
       "Starting Accelerated Gradient (FISTA)"
      ]
     },
     "metadata": {},
     "output_type": "display_data"
    },
    {
     "data": {
      "text/html": [
       "<pre>--------------------------------------------------------</pre>"
      ],
      "text/plain": [
       "--------------------------------------------------------"
      ]
     },
     "metadata": {},
     "output_type": "display_data"
    },
    {
     "data": {
      "text/html": [
       "<pre>Tuning step size. First iteration could take longer than subsequent iterations.</pre>"
      ],
      "text/plain": [
       "Tuning step size. First iteration could take longer than subsequent iterations."
      ]
     },
     "metadata": {},
     "output_type": "display_data"
    },
    {
     "data": {
      "text/html": [
       "<pre>+-----------+----------+-----------+--------------+-------------------+---------------------+</pre>"
      ],
      "text/plain": [
       "+-----------+----------+-----------+--------------+-------------------+---------------------+"
      ]
     },
     "metadata": {},
     "output_type": "display_data"
    },
    {
     "data": {
      "text/html": [
       "<pre>| Iteration | Passes   | Step size | Elapsed Time | Training Accuracy | Validation Accuracy |</pre>"
      ],
      "text/plain": [
       "| Iteration | Passes   | Step size | Elapsed Time | Training Accuracy | Validation Accuracy |"
      ]
     },
     "metadata": {},
     "output_type": "display_data"
    },
    {
     "data": {
      "text/html": [
       "<pre>+-----------+----------+-----------+--------------+-------------------+---------------------+</pre>"
      ],
      "text/plain": [
       "+-----------+----------+-----------+--------------+-------------------+---------------------+"
      ]
     },
     "metadata": {},
     "output_type": "display_data"
    },
    {
     "data": {
      "text/html": [
       "<pre>| 0         | 1        | 0.050000  | 0.000313     | 0.485000          | 0.540000            |</pre>"
      ],
      "text/plain": [
       "| 0         | 1        | 0.050000  | 0.000313     | 0.485000          | 0.540000            |"
      ]
     },
     "metadata": {},
     "output_type": "display_data"
    },
    {
     "data": {
      "text/html": [
       "<pre>| 1         | 2        | 0.009877  | 0.002498     | 0.906250          | 0.860000            |</pre>"
      ],
      "text/plain": [
       "| 1         | 2        | 0.009877  | 0.002498     | 0.906250          | 0.860000            |"
      ]
     },
     "metadata": {},
     "output_type": "display_data"
    },
    {
     "data": {
      "text/html": [
       "<pre>| 2         | 3        | 0.006584  | 0.003827     | 0.906250          | 0.860000            |</pre>"
      ],
      "text/plain": [
       "| 2         | 3        | 0.006584  | 0.003827     | 0.906250          | 0.860000            |"
      ]
     },
     "metadata": {},
     "output_type": "display_data"
    },
    {
     "data": {
      "text/html": [
       "<pre>| 3         | 4        | 0.006584  | 0.005039     | 0.906250          | 0.860000            |</pre>"
      ],
      "text/plain": [
       "| 3         | 4        | 0.006584  | 0.005039     | 0.906250          | 0.860000            |"
      ]
     },
     "metadata": {},
     "output_type": "display_data"
    },
    {
     "data": {
      "text/html": [
       "<pre>| 4         | 5        | 0.006584  | 0.006582     | 0.906250          | 0.860000            |</pre>"
      ],
      "text/plain": [
       "| 4         | 5        | 0.006584  | 0.006582     | 0.906250          | 0.860000            |"
      ]
     },
     "metadata": {},
     "output_type": "display_data"
    },
    {
     "data": {
      "text/html": [
       "<pre>| 5         | 6        | 0.006584  | 0.007571     | 0.906250          | 0.860000            |</pre>"
      ],
      "text/plain": [
       "| 5         | 6        | 0.006584  | 0.007571     | 0.906250          | 0.860000            |"
      ]
     },
     "metadata": {},
     "output_type": "display_data"
    },
    {
     "data": {
      "text/html": [
       "<pre>| 9         | 10       | 0.006584  | 0.012102     | 0.906250          | 0.860000            |</pre>"
      ],
      "text/plain": [
       "| 9         | 10       | 0.006584  | 0.012102     | 0.906250          | 0.860000            |"
      ]
     },
     "metadata": {},
     "output_type": "display_data"
    },
    {
     "data": {
      "text/html": [
       "<pre>+-----------+----------+-----------+--------------+-------------------+---------------------+</pre>"
      ],
      "text/plain": [
       "+-----------+----------+-----------+--------------+-------------------+---------------------+"
      ]
     },
     "metadata": {},
     "output_type": "display_data"
    },
    {
     "data": {
      "text/html": [
       "<pre>SUCCESS: Optimal solution found.</pre>"
      ],
      "text/plain": [
       "SUCCESS: Optimal solution found."
      ]
     },
     "metadata": {},
     "output_type": "display_data"
    },
    {
     "data": {
      "text/html": [
       "<pre></pre>"
      ],
      "text/plain": []
     },
     "metadata": {},
     "output_type": "display_data"
    },
    {
     "name": "stdout",
     "output_type": "stream",
     "text": [
      "Prediction (Testing Set):\n",
      " [1, 1, 1, 1, 1, 1, 1, 1, 1, 1, 1, 1, 1, 1, 1, 1, 1, 1, 1, 1, 1, 1, 1, 1, 1, 1, 1, 1, 1, 1, 1, 1, 1, 1, 1, 1, 1, 1, 1, 1, 1, 1, 1, 1, 1, 1, 1, 1, 1, 0, 0, 0, 0, 0, 0, 0, 0, 0, 0, 0, 0, 0, 0, 0, 0, 0, 0, 0, 0, 0, 0, 0, 0, 0, 0, 0, 0, 0, 0, 0, 0, 0, 0, 0, 0, 0, 0, 0, 0, 0, 0, 0, 0, 0, 0, 0, 0, 0, 0, 0] \n",
      "\n",
      "Confusion Matrix (Testing Set):\n",
      " +--------------+-----------------+-------+\n",
      "| target_label | predicted_label | count |\n",
      "+--------------+-----------------+-------+\n",
      "|      1       |        1        |   44  |\n",
      "|      0       |        1        |   5   |\n",
      "|      0       |        0        |   45  |\n",
      "|      1       |        0        |   6   |\n",
      "+--------------+-----------------+-------+\n",
      "[4 rows x 3 columns]\n",
      "\n"
     ]
    }
   ],
   "source": [
    "# run each model using hyperparameters setup using dict\n",
    "for i in range(len(model_dict)):\n",
    "    # print the model number\n",
    "    print(\"Perceptron Model\", i+1)\n",
    "    # print the hyperparameter setting of the model\n",
    "    print(model_hyper_settings(model_dict[i+1]))    \n",
    "    # set up models with different hyperparameters\n",
    "    model = perceptrons(l2_penalty=model_dict[i+1][\"l2_penalty\"],\n",
    "                    l1_penalty=model_dict[i+1][\"l1_penalty\"], \n",
    "                    feature_rescaling=model_dict[i+1][\"feature_rescaling\"],\n",
    "                    convergence_threshold=model_dict[i+1][\"convergence_threshold\"],\n",
    "                    max_iterations=model_dict[i+1][\"max_iterations\"],\n",
    "                    class_weights=model_dict[i+1][\"class_weights\"],\n",
    "                    solver=model_dict[i+1][\"solver\"], \n",
    "                    step_size=model_dict[i+1][\"step_size\"]\n",
    "                    )\n",
    "    # find prediction using the testing set\n",
    "    prediction = model.predict(test_data)\n",
    "    # print the prediction\n",
    "    print(\"Prediction (Testing Set):\\n\", prediction, \"\\n\")\n",
    "    confusion_matrix = tc.evaluation.confusion_matrix(test_data[\"Condition\"], model.predict(test_data))\n",
    "    # display the confusion matrix on the testing set\n",
    "    print(\"Confusion Matrix (Testing Set):\\n\", confusion_matrix)\n",
    "    # calculate the accuracy of training data\n",
    "    accuracy_train = tc.evaluation.accuracy(train_data[\"Condition\"], model.predict(train_data))\n",
    "    # calculate the accuracy of validation data\n",
    "    accuracy_validate = tc.evaluation.accuracy(validate_data[\"Condition\"], model.predict(validate_data))\n",
    "    # calculate the fbeta_score with beta from 4(a)\n",
    "    fbeta_score = tc.evaluation.fbeta_score(validate_data[\"Condition\"], model.predict(validate_data), beta=10)\n",
    "    # append the accuracy and fbeta_score to list for display\n",
    "    ab_results.append({\"accuracy_train\": accuracy_train, \n",
    "                       \"accuracy_validate\": accuracy_validate,\n",
    "                       \"fbeta_score\": fbeta_score})\n",
    "    # evaluate the testing data to prepare for further calculations\n",
    "    result = model.evaluate(test_data)\n",
    "    # append the result to list of results for display later\n",
    "    results.append(result)    "
   ]
  },
  {
   "cell_type": "code",
   "execution_count": 450,
   "id": "ee61b4ae",
   "metadata": {},
   "outputs": [
    {
     "name": "stdout",
     "output_type": "stream",
     "text": [
      "+-------+-------------------+---------------------+------------------+\n",
      "| Model | training accuracy | validation accuracy | testing accuracy |\n",
      "+-------+-------------------+---------------------+------------------+\n",
      "|   0   |      0.90625      |         0.86        |       0.89       |\n",
      "|   1   |      0.90625      |         0.86        |       0.89       |\n",
      "|   2   |      0.90625      |         0.86        |       0.89       |\n",
      "|   3   |      0.90625      |         0.86        |       0.89       |\n",
      "|   4   |      0.90625      |         0.86        |       0.89       |\n",
      "|   5   |      0.90625      |         0.86        |       0.89       |\n",
      "|   6   |      0.90625      |         0.86        |       0.89       |\n",
      "|   7   |      0.90625      |         0.86        |       0.89       |\n",
      "+-------+-------------------+---------------------+------------------+\n"
     ]
    }
   ],
   "source": [
    "# use the function to display the accuracy for models\n",
    "display_accuracy(ab_results, results)"
   ]
  },
  {
   "cell_type": "code",
   "execution_count": 451,
   "id": "0db8456c",
   "metadata": {},
   "outputs": [
    {
     "name": "stdout",
     "output_type": "stream",
     "text": [
      "+-------+--------------------+--------+--------------------+-------------+-------------+--------------------+\n",
      "| Model |        AUC         | Recall |     Precision      | Sensitivity | Specificity |    Fbeta Score     |\n",
      "+-------+--------------------+--------+--------------------+-------------+-------------+--------------------+\n",
      "|   1   | 0.8819999999999997 |  0.88  | 0.8979591836734694 |     0.88    |     0.9     | 0.8521643433602348 |\n",
      "|   2   | 0.8884000000000001 |  0.88  | 0.8979591836734694 |     0.88    |     0.9     | 0.8521643433602348 |\n",
      "|   3   | 0.8823999999999996 |  0.88  | 0.8979591836734694 |     0.88    |     0.9     | 0.8521643433602348 |\n",
      "|   4   | 0.8783999999999997 |  0.88  | 0.8979591836734694 |     0.88    |     0.9     | 0.8521643433602348 |\n",
      "|   5   | 0.8819999999999997 |  0.88  | 0.8979591836734694 |     0.88    |     0.9     | 0.8521643433602348 |\n",
      "|   6   | 0.8797999999999999 |  0.88  | 0.8979591836734694 |     0.88    |     0.9     | 0.8521643433602348 |\n",
      "|   7   | 0.8785999999999997 |  0.88  | 0.8979591836734694 |     0.88    |     0.9     | 0.8521643433602348 |\n",
      "|   8   | 0.9228000000000002 |  0.88  | 0.8979591836734694 |     0.88    |     0.9     | 0.8521643433602348 |\n",
      "+-------+--------------------+--------+--------------------+-------------+-------------+--------------------+\n"
     ]
    }
   ],
   "source": [
    "# use the function to display recall, precision, sensitivity, and specificity on the testing set\n",
    "calculate_values_perceptron(ab_results, results)"
   ]
  },
  {
   "cell_type": "markdown",
   "id": "f58d4afe",
   "metadata": {},
   "source": [
    "### Problem 4\n",
    "#### f) Select which of your two models is the best (or declare a tie) and justify your choice."
   ]
  },
  {
   "cell_type": "markdown",
   "id": "5a37f751",
   "metadata": {},
   "source": [
    "[draft] If we consider only accuracy, sensitivity, specificity and fbeta score, the 8 models perform the same and we should declare a tie. \n",
    "\n",
    "An excellent model has AUC near to 1 which means it has a good measure of separability. If we also consider the AUC (area under ROC), Model 8 is slightly better, yet not significantly.\n",
    "\n",
    "Therefore, we would declare a tie. Let's try to look at the pair plot of the data set to justify."
   ]
  },
  {
   "cell_type": "code",
   "execution_count": 459,
   "id": "6c590cff",
   "metadata": {},
   "outputs": [
    {
     "data": {
      "text/plain": [
       "<seaborn.axisgrid.FacetGrid at 0x7fea702b87f0>"
      ]
     },
     "execution_count": 459,
     "metadata": {},
     "output_type": "execute_result"
    },
    {
     "data": {
      "image/png": "[encoded data removed]",
      "text/plain": [
       "<Figure size 426.05x360 with 1 Axes>"
      ]
     },
     "metadata": {},
     "output_type": "display_data"
    }
   ],
   "source": [
    "sns.relplot(data=data_pd, x=\"Temperature\", y=\"Voltage\", hue=\"Condition\", style=\"Condition\")"
   ]
  },
  {
   "cell_type": "code",
   "execution_count": 458,
   "id": "c5d04e83",
   "metadata": {},
   "outputs": [
    {
     "data": {
      "text/plain": [
       "<seaborn.axisgrid.FacetGrid at 0x7fea702b8278>"
      ]
     },
     "execution_count": 458,
     "metadata": {},
     "output_type": "execute_result"
    },
    {
     "data": {
      "image/png": "[encoded data removed]",
      "text/plain": [
       "<Figure size 426.05x360 with 1 Axes>"
      ]
     },
     "metadata": {},
     "output_type": "display_data"
    }
   ],
   "source": [
    "sns.relplot(data=data_pd, x=\"Voltage\", y=\"Current\", hue=\"Condition\", style=\"Condition\")"
   ]
  },
  {
   "cell_type": "code",
   "execution_count": 453,
   "id": "63501f8f",
   "metadata": {},
   "outputs": [
    {
     "data": {
      "text/plain": [
       "<seaborn.axisgrid.FacetGrid at 0x7fea91d5f9b0>"
      ]
     },
     "execution_count": 453,
     "metadata": {},
     "output_type": "execute_result"
    },
    {
     "data": {
      "image/png": "[encoded data removed]",
      "text/plain": [
       "<Figure size 426.05x360 with 1 Axes>"
      ]
     },
     "metadata": {},
     "output_type": "display_data"
    }
   ],
   "source": [
    "sns.relplot(data=data_pd, x=\"Current\", y=\"Temperature\", hue=\"Condition\", style=\"Condition\")"
   ]
  },
  {
   "cell_type": "markdown",
   "id": "229ba6ce",
   "metadata": {},
   "source": [
    "If we look at the pair plots, we can see that when plot in pairs, the features have two very clear, separated and concentrated centres. We can imagine that when all 3 features are considered together, they should also be having two very clear, separated and concentrated centres. Because the two centres are clear, separated and concentrated, they make it easy for the model to establish the classification rules and classify the data points.\n",
    "\n",
    "If we look closely to the plot with the Condition in mind, we can see that, in each of the clear, separated and concentrated centre, there are data of both Condition 0 and Condition 1. They are so concentrated together that it is almost impossible to separate (better classify) the Condition 0 and Condition 1 fron the same centre. This is the reason behind the same level of accuracy is achieved by all the models.  "
   ]
  }
 ],
 "metadata": {
  "kernelspec": {
   "display_name": "Python 3",
   "language": "python",
   "name": "python3"
  },
  "language_info": {
   "codemirror_mode": {
    "name": "ipython",
    "version": 3
   },
   "file_extension": ".py",
   "mimetype": "text/x-python",
   "name": "python",
   "nbconvert_exporter": "python",
   "pygments_lexer": "ipython3",
   "version": "3.6.9"
  }
 },
 "nbformat": 4,
 "nbformat_minor": 5
}
